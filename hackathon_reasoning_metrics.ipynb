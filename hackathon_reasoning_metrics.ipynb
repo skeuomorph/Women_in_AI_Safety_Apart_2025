{
 "cells": [
  {
   "cell_type": "code",
   "execution_count": null,
   "metadata": {},
   "outputs": [],
   "source": [
    "\"\"\"\n",
    "Authors: Markela Zeneli & Mindy Ng\n",
    "\"\"\""
   ]
  },
  {
   "cell_type": "code",
   "execution_count": 129,
   "metadata": {},
   "outputs": [
    {
     "data": {
      "text/plain": [
       "True"
      ]
     },
     "execution_count": 129,
     "metadata": {},
     "output_type": "execute_result"
    }
   ],
   "source": [
    "from collections import Counter\n",
    "import re\n",
    "import os\n",
    "import numpy as np\n",
    "import pandas as pd\n",
    "from dotenv import load_dotenv\n",
    "\n",
    "from openai import OpenAI\n",
    "import goodfire\n",
    "\n",
    "load_dotenv()"
   ]
  },
  {
   "cell_type": "code",
   "execution_count": 2,
   "metadata": {},
   "outputs": [],
   "source": [
    "df = pd.read_csv('justice.csv')"
   ]
  },
  {
   "cell_type": "code",
   "execution_count": 3,
   "metadata": {},
   "outputs": [
    {
     "data": {
      "text/plain": [
       "Index(['Unnamed: 0', 'ID', 'name', 'href', 'docket', 'term', 'first_party',\n",
       "       'second_party', 'facts', 'facts_len', 'majority_vote', 'minority_vote',\n",
       "       'first_party_winner', 'decision_type', 'disposition', 'issue_area'],\n",
       "      dtype='object')"
      ]
     },
     "execution_count": 3,
     "metadata": {},
     "output_type": "execute_result"
    }
   ],
   "source": [
    "df.columns"
   ]
  },
  {
   "cell_type": "code",
   "execution_count": 4,
   "metadata": {},
   "outputs": [
    {
     "data": {
      "text/plain": [
       "decision_type\n",
       "majority opinion                     2829\n",
       "per curiam                            267\n",
       "plurality opinion                     153\n",
       "equally divided                        17\n",
       "dismissal - rule 46                     9\n",
       "dismissal - other                       8\n",
       "dismissal - improvidently granted       6\n",
       "dismissal - moot                        5\n",
       "memorandum                              1\n",
       "opinion of the court                    1\n",
       "Name: count, dtype: int64"
      ]
     },
     "execution_count": 4,
     "metadata": {},
     "output_type": "execute_result"
    }
   ],
   "source": [
    "df['decision_type'].value_counts()"
   ]
  },
  {
   "cell_type": "code",
   "execution_count": 5,
   "metadata": {},
   "outputs": [
    {
     "data": {
      "text/plain": [
       "issue_area\n",
       "Criminal Procedure      859\n",
       "Civil Rights            568\n",
       "Economic Activity       542\n",
       "First Amendment         353\n",
       "Judicial Power          342\n",
       "Due Process             128\n",
       "Federalism              125\n",
       "Privacy                  70\n",
       "Unions                   60\n",
       "Federal Taxation         51\n",
       "Attorneys                37\n",
       "Miscellaneous            20\n",
       "Private Action            4\n",
       "Interstate Relations      2\n",
       "Name: count, dtype: int64"
      ]
     },
     "execution_count": 5,
     "metadata": {},
     "output_type": "execute_result"
    }
   ],
   "source": [
    "df['issue_area'].value_counts()"
   ]
  },
  {
   "cell_type": "code",
   "execution_count": 6,
   "metadata": {},
   "outputs": [],
   "source": [
    "majority_opinions = df[(df[\"decision_type\"] == \"majority opinion\")&(df[\"facts_len\"] >= 2500)][[\"name\",\"term\",\"facts\",\"decision_type\",\"first_party\",\"second_party\",\"first_party_winner\",\"issue_area\",\"facts_len\"]]"
   ]
  },
  {
   "cell_type": "code",
   "execution_count": 8,
   "metadata": {},
   "outputs": [
    {
     "data": {
      "text/plain": [
       "issue_area\n",
       "Civil Rights          11\n",
       "Economic Activity      9\n",
       "Criminal Procedure     7\n",
       "Judicial Power         6\n",
       "Federalism             2\n",
       "First Amendment        2\n",
       "Federal Taxation       1\n",
       "Unions                 1\n",
       "Miscellaneous          1\n",
       "Name: count, dtype: int64"
      ]
     },
     "execution_count": 8,
     "metadata": {},
     "output_type": "execute_result"
    }
   ],
   "source": [
    "majority_opinions[\"issue_area\"].value_counts()"
   ]
  },
  {
   "cell_type": "code",
   "execution_count": 8,
   "metadata": {},
   "outputs": [],
   "source": [
    "facts = majority_opinions['facts']"
   ]
  },
  {
   "cell_type": "code",
   "execution_count": null,
   "metadata": {},
   "outputs": [],
   "source": [
    "facts = facts.str.replace('<p>','')\n",
    "facts = facts.str.replace('<p dir=\"ltr\">','')\n",
    "facts = facts.str.replace('</p>','')\n",
    "facts = facts.str.replace('/n','')\n",
    "facts = facts.str.replace('<em>','')\n",
    "facts = facts.str.replace('</em>','')"
   ]
  },
  {
   "cell_type": "code",
   "execution_count": 13,
   "metadata": {},
   "outputs": [],
   "source": [
    "terms = majority_opinions['term'].astype(str)"
   ]
  },
  {
   "cell_type": "code",
   "execution_count": 17,
   "metadata": {},
   "outputs": [
    {
     "name": "stdout",
     "output_type": "stream",
     "text": [
      "No content found between the specified substrings.\n",
      "The text provided does not contain any explicit mention of a Supreme Court decision, so no cleaning is required based on the instructions given. However, if there were a Supreme Court decision mentioned after a colon, it would be removed unless it was made prior to 2011. Since there is no such instance in the text, the text remains unchanged. Here is the original text for reference:\n",
      "\n",
      "---\n",
      "\n",
      "Plaintiffs Stephen R. Chandler and Robert L. Pierce were the sole shareholders of Home Oil and Coal Company, Inc. In 1999, Pierce contemplated selling his share of the business and sought professional advice in an effort to minimize tax liability generated by the sale of his interest in Home Oil. Each of the taxpayers initiated short sales of United States Treasury Bonds for $7,472,405. They then transferred the proceeds from that sale to Home Concrete as capital contributions. Home Concrete then closed the short sales by purchasing and returning essentially identical Treasury Bonds on the open market for $7,359,043. This transaction created \"outside basis,\" or how much the partner's investment was worth according to tax rules, equal to the amount of the proceeds the taxpayers contributed.\n",
      "\n",
      "Home Oil then transferred its assets to Home Concrete as a capital contribution. The taxpayers (except Home Oil) then transferred percentages of their partnership interests in Home Concrete to Home Oil as capital contributions. Home Concrete then sold substantially all of its assets to a third party purchaser for $10,623,348. The taxpayers timely filed their tax returns for 1999 in April 2000. Home Concrete elected to step-up its inside basis, or the amount that the partnership tax records compute for each partner, to equal the taxpayers' outside basis. Home Concrete again adjusted its inside basis to $10,527,250.53, including the amount of short sale proceeds earlier contributed by the taxpayers. As a result Home Concrete reported a $69,125.08 gain from the sale of its assets.\n",
      "\n",
      "The IRS did not investigate until June 2003. As a result of their investigation, the IRS determined that the partnership was formed \"solely for the purposes of tax avoidance by artificially overstating basis in the partnership interests of its purported partners.\" On September 7, 2006 the IRS issued a Final Partnership Administrative Adjustment (FPAA), in which they decreased to zero the taxpayers' reported outside bases in Home Concrete. This substantially increased the taxpayers' taxable income. Plaintiff taxpayers brought action against Internal Revenue Service (IRS) seeking to recover the increase.\n",
      "\n",
      "As a general matter, the Internal Revenue Service (IRS) has three years to assess additional tax if the agency believes that the taxpayer's return has understated the amount of tax owed. That period is extended to six years, however, if the taxpayer omits from gross income an amount which is in excess of 25 percent of the amount of gross income stated in the taxpayer's return. During the trial the Treasury Department passed a regulation stating that the six-year period for assessing tax remains open for \"all taxable years… that are the subject of any case pending before any court of competent jurisdiction… in which a decision had not become final.\" The U.S. Court of Appeals for the Fourth Circuit disagreed and found in favor of the plaintiffs.\n",
      "\n",
      "--- \n",
      "\n",
      "If you have additional text or specific sentences that require cleaning, please provide them, and I can assist further!\n",
      "No content found between the specified substrings.\n",
      "Here is the cleaned text with Supreme Court decisions (post-2019) removed, while retaining all other information:\n",
      "\n",
      "---\n",
      "\n",
      "Marcel and Lucky Brand are competitors in the apparel industry, and this dispute arises over Marcel’s allegation that Lucky Brand is infringing on its “Get Lucky” trademark through its use of “Lucky” on its merchandise in violation of an injunction entered in an earlier action between the two parties.  \n",
      "In 2003, the two parties entered into a settlement agreement to resolve a trademark dispute in which Lucky Brand agreed not to use “Get Lucky” and Marcel agreed to release certain claims it might have in the future arising out of its trademarks. The two parties contest the scope of Marcel’s release of claims, with Marcel contending that it only released claims as to infringement that occurred prior to the 2003 execution of the agreement and Lucky Brand arguing that it released any future claim Marcel may have in relation to any trademark registered prior to the execution of the agreement. Further litigation ensued.  \n",
      "In litigation between the two parties over substantially the same trademark disputes, Lucky Brand argued for its interpretation of the 2003 settlement agreement. It moved to dismiss on the basis that because the marks at issue were registered prior to the settlement agreement, Marcel released any claim alleging infringement of those marks. The district court denied the motion, concluding that it was premature to determine which claims were subject to release in the 2001 agreement. However, the district court noted that Lucky Brand was “free to raise the issue . . . again after the record is more fully developed.” Lucky Brand raised the defense again in its answer and as an affirmative defense, but not again during the litigation. After a jury trial, the district court entered judgment for Marcel, declaring that Lucky Brand infringed on Marcel’s “Get Lucky” trademark and enjoining Lucky Brand from using the “Get Lucky” mark. Lucky Brand did not appeal.  \n",
      "In 2011, Marcel filed another lawsuit against Lucky Brand alleging that the latter continued to use “Lucky Brand” mark after the injunction. Lucky Brand moved for summary judgment on the basis that Marcel’s claims were precluded by res judicata in light of the final disposition of the previous action. The district court agreed, but the Second Circuit reversed, finding the allegedly barred claims “could not possibly have been sued upon in the previous case.” On remand, Marcel filed a second amended complaint, which Lucky Brand moved to dismiss on the sole basis that the 2001 agreement barred Marcel’s claims. The district court granted the motion and rejected Marcel’s argument that Lucky Brand was precluded from raising those claims.  \n",
      "The Second Circuit vacated, concluding that the doctrine of claim preclusion (or more precisely, defense preclusion) applied in situations as this one and that it barred Lucky Brand from invoking its release defense again in this action.  \n",
      "\n",
      "--- \n",
      "\n",
      "No Supreme Court decisions (post-2019) were present in the original text, so no further modifications were necessary. All other decisions and verdicts have been retained.\n"
     ]
    }
   ],
   "source": [
    "client = OpenAI(api_key=os.getenv(\"OPENAI_API_KEY\"), base_url=\"https://api.deepseek.com\")\n",
    "\n",
    "llm_reas_judge = []\n",
    "\n",
    "for f,t in zip(facts,terms):\n",
    "    persona = f\"\"\"\"\n",
    "        Your task is to clean the text that proceeds the next appearing ':' character. \n",
    "        To clean it, you must remove all information that indicates the Supreme Court's decision. \n",
    "        Please note that there are other decisions and verdicts mentioned in the text, which should \n",
    "        be retained. It is only the Supreme Court decisions which should be ommitted. Additionally, \n",
    "        any Supreme Court decisions that were made prior to the year {t} (if specified), should be retained, not removed.\n",
    "        This may require splitting a sentence and only removing the judgement part of the \n",
    "        sentence, whilst still retaining all other information in the sentence.\n",
    "        The text to clean is:\n",
    "\n",
    "    \"\"\"\n",
    "    content = persona + f\n",
    "\n",
    "    response = client.chat.completions.create(\n",
    "        model=\"deepseek-chat\",\n",
    "        messages=[\n",
    "            {\"role\": \"system\", \"content\": \"You are a helpful assistant.\"},\n",
    "            {\"role\": \"user\", \"content\": content},\n",
    "        ],\n",
    "        stream=False\n",
    "    )\n",
    "\n",
    "    matches = re.search(r'\\n\\n---\\n\\n(.*?)\\n\\n---\\n\\n', str(response.choices[0].message.content), re.DOTALL)\n",
    "\n",
    "    if matches:\n",
    "        result = matches.group(1)\n",
    "        llm_reas_judge.append(result)\n",
    "    else:\n",
    "        print(\"No content found between the specified substrings.\")\n",
    "        print(response.choices[0].message.content)\n",
    "        llm_reas_judge.append(np.nan)"
   ]
  },
  {
   "cell_type": "code",
   "execution_count": 19,
   "metadata": {},
   "outputs": [],
   "source": [
    "majority_opinions[\"deepseek_cleaned\"] = llm_reas_judge"
   ]
  },
  {
   "cell_type": "code",
   "execution_count": 20,
   "metadata": {},
   "outputs": [],
   "source": [
    "majority_opinions.to_csv(\"deepseek_cleaned.csv\", index=True)"
   ]
  },
  {
   "cell_type": "code",
   "execution_count": 10,
   "metadata": {},
   "outputs": [],
   "source": [
    "facts_v2 = pd.read_csv('cleaned_facts_winner.csv')"
   ]
  },
  {
   "cell_type": "code",
   "execution_count": 11,
   "metadata": {},
   "outputs": [],
   "source": [
    "facts_v2.index = facts_v2['Unnamed: 0']"
   ]
  },
  {
   "cell_type": "code",
   "execution_count": 12,
   "metadata": {},
   "outputs": [],
   "source": [
    "majority_opinions['facts_cleaned'] = facts_v2['facts']"
   ]
  },
  {
   "cell_type": "code",
   "execution_count": 13,
   "metadata": {},
   "outputs": [],
   "source": [
    "GOODFIRE_API_KEY = os.getenv(\"goodfire_key\")"
   ]
  },
  {
   "cell_type": "code",
   "execution_count": 14,
   "metadata": {},
   "outputs": [],
   "source": [
    "client = goodfire.Client(api_key=GOODFIRE_API_KEY)\n",
    "\n",
    "# Instantiate a model variant. \n",
    "variant = goodfire.Variant(\"meta-llama/Llama-3.3-70B-Instruct\")"
   ]
  },
  {
   "cell_type": "code",
   "execution_count": 15,
   "metadata": {},
   "outputs": [],
   "source": [
    "year = majority_opinions['term']\n",
    "first_party = majority_opinions['first_party']\n",
    "second_party = majority_opinions['second_party']\n",
    "facts = majority_opinions['facts_cleaned']"
   ]
  },
  {
   "cell_type": "code",
   "execution_count": null,
   "metadata": {},
   "outputs": [],
   "source": [
    "llama_one_pass = []\n",
    "for y, f, s, fa in zip(year, first_party, second_party, facts):\n",
    "    response = \"\"  # Initialize an empty string to collect response\n",
    "    \n",
    "    for token in client.chat.completions.create(\n",
    "        [{\"role\": \"user\", \"content\": \n",
    "        f'''\n",
    "        You are a supreme court justice delivering a decision on a case. \n",
    "        \n",
    "        I will give you the year of the case, the first party, second party and facts of the case. \n",
    "        \n",
    "        Please determine whether you will rule in favor of the first party.\n",
    "        \n",
    "        Return an answer of TRUE if you decide in favor of the first party, or FALSE if not. \n",
    "        \n",
    "        FALSE is a catch-all response for any scenario other than a ruling in favor of the first party.\n",
    "\n",
    "        In your response, please give your answer (either TRUE or FALSE) as the first part of a response, then\n",
    "        a semicolon \";\", and then follow with your reasoning for why you gave your answer.\n",
    "\n",
    "        In your reasoning, do not use any information or examples from after the year of the case. \n",
    "         \n",
    "        This is the case:\n",
    "         \n",
    "        Year: {y}\n",
    "        First party: {f}\n",
    "        Second Party: {s}\n",
    "        Facts: {fa}\n",
    "        '''\n",
    "        }],\n",
    "        model=variant,\n",
    "        stream=True,\n",
    "    ):\n",
    "        response += token.choices[0].delta.content  # Append tokens to a string\n",
    "    \n",
    "    llama_one_pass.append(response)  # Append the full response instead of tokens"
   ]
  },
  {
   "cell_type": "code",
   "execution_count": null,
   "metadata": {},
   "outputs": [],
   "source": [
    "llama_multi_pass = []\n",
    "\n",
    "for y, f, s, fa in zip(year, first_party, second_party, facts):\n",
    "    case_pass = []\n",
    "\n",
    "    for iteration in range(20):\n",
    "        response = \"\"\n",
    "        \n",
    "        for token in client.chat.completions.create(\n",
    "            [{\"role\": \"user\", \"content\": f\"\"\"\n",
    "            \n",
    "            You are a supreme court justice delivering a decision on a case. \n",
    "        \n",
    "            I will give you the year of the case, the first party, second party and facts of the case. \n",
    "            \n",
    "            Please determine whether you will rule in favor of the first party.\n",
    "            \n",
    "            Return an answer of TRUE if you decide in favor of the first party, or FALSE if not. \n",
    "            \n",
    "            FALSE is a catch-all response for any scenario other than a ruling in favor of the first party.\n",
    "\n",
    "            In your response, please give your answer (either TRUE or FALSE) as the first part of a response, then\n",
    "            a semicolon \";\", and then follow with your reasoning for why you gave your answer.\n",
    "\n",
    "            In your reasoning, do not use any information or examples from after the year of the case. \n",
    "             \n",
    "            This is the case:\n",
    "            Year: {y}\n",
    "            First party: {f}\n",
    "            Second Party: {s}\n",
    "            Facts: {fa}\n",
    "            \"\"\"}],\n",
    "            model=variant,\n",
    "            stream=True,\n",
    "        ):\n",
    "            response += token.choices[0].delta.content\n",
    "\n",
    "        case_pass.append(response)\n",
    "\n",
    "    llama_multi_pass.append(case_pass)"
   ]
  },
  {
   "cell_type": "code",
   "execution_count": null,
   "metadata": {},
   "outputs": [],
   "source": [
    "llama_reasonings = []\n",
    "for i in llama_one_pass:\n",
    "    if \";\" in i:\n",
    "        llama_reasonings.append(i.split(\";\")[1])\n",
    "    else:\n",
    "        llama_reasonings.append(i)"
   ]
  },
  {
   "cell_type": "code",
   "execution_count": null,
   "metadata": {},
   "outputs": [],
   "source": [
    "llama_predictions = []\n",
    "\n",
    "for i in llama_one_pass:\n",
    "    llama_predictions.append(i.split(\";\")[0])"
   ]
  },
  {
   "cell_type": "code",
   "execution_count": null,
   "metadata": {},
   "outputs": [],
   "source": [
    "llama_predictions_binary = []\n",
    "for i in llama_predictions:\n",
    "    if i == \"TRUE\":\n",
    "        llama_predictions.append(1)\n",
    "    else:\n",
    "        llama_predictions.append(0)"
   ]
  },
  {
   "cell_type": "code",
   "execution_count": 35,
   "metadata": {},
   "outputs": [
    {
     "data": {
      "text/plain": [
       "first_party_winner\n",
       "True     28\n",
       "False    12\n",
       "Name: count, dtype: int64"
      ]
     },
     "execution_count": 35,
     "metadata": {},
     "output_type": "execute_result"
    }
   ],
   "source": [
    "majority_opinions[\"first_party_winner\"].value_counts()"
   ]
  },
  {
   "cell_type": "code",
   "execution_count": 41,
   "metadata": {},
   "outputs": [],
   "source": [
    "first_party_winner_binary = []\n",
    "\n",
    "for i in majority_opinions[\"first_party_winner\"].tolist():\n",
    "    if i == True:\n",
    "        first_party_winner_binary.append(1)\n",
    "    else:\n",
    "        first_party_winner_binary.append(0)"
   ]
  },
  {
   "cell_type": "code",
   "execution_count": null,
   "metadata": {},
   "outputs": [],
   "source": [
    "majority_opinions[\"first_party_winner_binary\"] = first_party_winner_binary\n",
    "majority_opinions[\"llama_prediction\"] = llama_predictions_binary"
   ]
  },
  {
   "cell_type": "code",
   "execution_count": 43,
   "metadata": {},
   "outputs": [
    {
     "data": {
      "text/plain": [
       "first_party_winner_binary\n",
       "1    28\n",
       "0    12\n",
       "Name: count, dtype: int64"
      ]
     },
     "execution_count": 43,
     "metadata": {},
     "output_type": "execute_result"
    }
   ],
   "source": [
    "majority_opinions[\"first_party_winner_binary\"].value_counts()"
   ]
  },
  {
   "cell_type": "code",
   "execution_count": null,
   "metadata": {},
   "outputs": [
    {
     "name": "stdout",
     "output_type": "stream",
     "text": [
      "first_party_winner_binary   0   1\n",
      "llm_winner_prediction            \n",
      "0                          10  19\n",
      "1                           2   9\n"
     ]
    }
   ],
   "source": [
    "contingency_matrix = pd.crosstab(majority_opinions[\"llama_prediction\"], majority_opinions[\"first_party_winner_binary\"])\n",
    "\n",
    "print(contingency_matrix)"
   ]
  },
  {
   "cell_type": "code",
   "execution_count": null,
   "metadata": {},
   "outputs": [],
   "source": [
    "majority_opinions[\"llama_reasoning\"] = llama_reasonings\n",
    "majority_opinions.to_csv(\"single_pass_predictions_and_reasonings.csv\",index=True)"
   ]
  },
  {
   "cell_type": "code",
   "execution_count": null,
   "metadata": {},
   "outputs": [],
   "source": [
    "multi_pass_answers = []\n",
    "multi_pass_reasonings = []\n",
    "\n",
    "for i in llama_multi_pass:\n",
    "    case_answers = []\n",
    "    case_reasonings = []\n",
    "    for j in i:\n",
    "        if \";\" in j:\n",
    "            case_answers.append(j.split(\";\")[0])\n",
    "            case_reasonings.append(j.split(\";\")[1])\n",
    "        else:\n",
    "            case_answers.append(\"FALSE\")\n",
    "            case_reasonings.append(j)\n",
    "    multi_pass_answers.append(case_answers)\n",
    "    multi_pass_reasonings.append(case_reasonings)\n"
   ]
  },
  {
   "cell_type": "code",
   "execution_count": null,
   "metadata": {},
   "outputs": [
    {
     "name": "stdout",
     "output_type": "stream",
     "text": [
      "[100.0, 100.0, 100.0, 100.0, 100.0, 100.0, 100.0, 100.0, 100.0, 100.0, 100.0, 100.0, 100.0, 100.0, 100.0, 100.0, 100.0, 100.0, 100.0, 100.0, 100.0, 100.0, 100.0, 100.0, 100.0, 100.0, 100.0, 100.0, 100.0, 100.0, 100.0, 100.0, 100.0, 100.0, 100.0, 100.0, 100.0, 100.0, 100.0, 100.0]\n"
     ]
    }
   ],
   "source": [
    "consistency_scores = []\n",
    "\n",
    "for i in multi_pass_answers:\n",
    "    counter = Counter(i)\n",
    "    consistency_scores.append((counter.most_common(1)[0][1]/20)*100)\n"
   ]
  },
  {
   "cell_type": "code",
   "execution_count": 132,
   "metadata": {},
   "outputs": [],
   "source": [
    "majority_opinions[\"llama_consistency_scores\"] = consistency_scores"
   ]
  },
  {
   "cell_type": "code",
   "execution_count": 133,
   "metadata": {},
   "outputs": [],
   "source": [
    "majority_opinions.to_csv(\"llama_consistency_scores.csv\", index=True)"
   ]
  },
  {
   "cell_type": "code",
   "execution_count": 134,
   "metadata": {},
   "outputs": [],
   "source": [
    "client = OpenAI(api_key=os.getenv(\"OPENAI_API_KEY\"), base_url=\"https://api.deepseek.com\")\n",
    "\n",
    "multi_pass_deepseek = []\n",
    "\n",
    "for y, f, s, fa in zip(year, first_party, second_party, facts):\n",
    "    case_pass = []\n",
    "\n",
    "    for iteration in range(20):\n",
    "\n",
    "        persona = f\"\"\"\"\n",
    "            You are a Supreme Court Justice delivering a decision on a case. \n",
    "        \n",
    "            I will give you the year of the case, the first party, second party and facts of the case. \n",
    "            \n",
    "            Please determine whether you will rule in favor of the first party.\n",
    "            \n",
    "            Return an answer of TRUE if you decide in favor of the first party, or FALSE if not. \n",
    "            \n",
    "            FALSE is a catch-all response for any scenario other than a ruling in favor of the first party.\n",
    "\n",
    "            In your response, please give your answer (either TRUE or FALSE) as the first part of a response, then\n",
    "            a semicolon \";\", and then follow with your reasoning for why you gave your answer.\n",
    "\n",
    "            In your reasoning, do not use any information or examples from after the year of the case. \n",
    "             \n",
    "            This is the case:\n",
    "            Year: {y}\n",
    "            First party: {f}\n",
    "            Second Party: {s}\n",
    "            Facts: {fa}\n",
    "\n",
    "        \"\"\"\n",
    "        content = persona + f\n",
    "\n",
    "        response = client.chat.completions.create(\n",
    "            model=\"deepseek-chat\",\n",
    "            messages=[\n",
    "                {\"role\": \"system\", \"content\": \"You are a Supreme Court Justice.\"},\n",
    "                {\"role\": \"user\", \"content\": content},\n",
    "            ],\n",
    "            stream=False\n",
    "        )\n",
    "\n",
    "        case_pass.append(response)\n",
    "\n",
    "    multi_pass_deepseek.append(case_pass)"
   ]
  },
  {
   "cell_type": "code",
   "execution_count": 143,
   "metadata": {},
   "outputs": [],
   "source": [
    "deepseek_multi_pass_answers = []\n",
    "deepseek_multi_pass_reasonings = []\n",
    "\n",
    "for i in multi_pass_deepseek:\n",
    "    case_answers = []\n",
    "    case_reasonings = []\n",
    "    for j in i:\n",
    "        if \";\" in j.choices[0].message.content:\n",
    "            case_answers.append(j.choices[0].message.content.split(\";\")[0])\n",
    "            case_reasonings.append(j.choices[0].message.content.split(\";\")[1])\n",
    "        else:\n",
    "            case_answers.append(\"FALSE\")\n",
    "            case_reasonings.append(j.choices[0].message.content)\n",
    "    deepseek_multi_pass_answers.append(case_answers)\n",
    "    deepseek_multi_pass_reasonings.append(case_reasonings)"
   ]
  },
  {
   "cell_type": "code",
   "execution_count": 144,
   "metadata": {},
   "outputs": [
    {
     "name": "stdout",
     "output_type": "stream",
     "text": [
      "[100.0, 100.0, 100.0, 100.0, 100.0, 100.0, 100.0, 100.0, 100.0, 100.0, 100.0, 100.0, 100.0, 100.0, 100.0, 100.0, 100.0, 85.0, 100.0, 100.0, 100.0, 100.0, 100.0, 100.0, 100.0, 100.0, 100.0, 100.0, 100.0, 100.0, 100.0, 100.0, 100.0, 65.0, 100.0, 100.0, 90.0, 100.0, 100.0, 100.0]\n"
     ]
    }
   ],
   "source": [
    "consistency_scores_deepseek = []\n",
    "\n",
    "for i in deepseek_multi_pass_answers:\n",
    "    counter = Counter(i)\n",
    "    consistency_scores_deepseek.append((counter.most_common(1)[0][1]/20)*100)\n",
    "\n",
    "print(consistency_scores_deepseek)"
   ]
  },
  {
   "cell_type": "code",
   "execution_count": 187,
   "metadata": {},
   "outputs": [],
   "source": [
    "majority_opinions[\"deepseek_consistency_scores\"] = consistency_scores_deepseek"
   ]
  },
  {
   "cell_type": "code",
   "execution_count": 151,
   "metadata": {},
   "outputs": [],
   "source": [
    "majority_opinions[\"llama_consistency_reasonings\"] = multi_pass_reasonings\n",
    "majority_opinions[\"deepseek_consistency_reasonings\"] = deepseek_multi_pass_reasonings"
   ]
  },
  {
   "cell_type": "code",
   "execution_count": 142,
   "metadata": {},
   "outputs": [
    {
     "data": {
      "text/plain": [
       "\"FALSE; The reasoning for this decision is based on the facts presented and the legal framework of the Education of the Handicapped Act (now known as the Individuals with Disabilities Education Act, or IDEA). The Act mandates that state and local education agencies provide handicapped children with a free and appropriate public education (FAPE), which includes the development of an Individualized Education Program (IEP) tailored to the child's needs. In this case, the Massachusetts Department of Education’s Bureau of Special Education Appeals (BSEA) determined that the town’s proposed placement at Pine Glen School was inappropriate and that the Carroll School was better equipped to meet Michael Panico's needs. The BSEA ordered the town to pay for Michael’s tuition and transportation, as well as reimburse the Panicos for expenses already incurred.\\n\\nThe district court initially ruled in favor of the town, but the U.S. Court of Appeals for the First Circuit reversed this decision, finding that the district court erred in conducting a new trial, gave insufficient weight to the BSEA findings, and did not properly evaluate the IEP. Given the appellate court's findings and the mandate of the Education of the Handicapped Act to provide an appropriate education for handicapped children, the Supreme Court would likely rule in favor of the Panicos and the Department of Education, not the School Committee of Burlington. Therefore, the ruling would not be in favor of the first party, the School Committee of Burlington, Massachusetts, et al.\""
      ]
     },
     "execution_count": 142,
     "metadata": {},
     "output_type": "execute_result"
    }
   ],
   "source": [
    "deepseek_multi_pass_reasonings[0][0].choices[0].message.content"
   ]
  },
  {
   "cell_type": "code",
   "execution_count": 139,
   "metadata": {},
   "outputs": [
    {
     "data": {
      "text/plain": [
       "[' I rule in favor of Dethorne Graham because the facts of the case suggest that the police officers used excessive force in handling Graham, who was experiencing a medical emergency and posed no threat to the officers. The officers\\' actions, including shoving Graham\\'s head into the hood of the car and struggling to place him in the squad car, were not objectively reasonable given the circumstances. The Fourth Amendment\\'s protection against unreasonable seizures requires that the force used by law enforcement be proportionate to the threat posed by the individual, and in this case, it appears that the officers\\' use of force was excessive and violated Graham\\'s rights. The \"objective reasonableness\" standard, which considers the totality of the circumstances from the perspective of a reasonable officer on the scene, is the appropriate test to apply in this case, rather than the four-part test from Johnson v. Glick.',\n",
       " ' I rule in favor of Dethorne Graham because the facts of the case suggest that the police officers used excessive force in handling Graham, who was experiencing a medical emergency and posed no threat to the officers. The officers\\' actions, including shoving Graham\\'s head into the hood of the car and struggling to place him in the squad car, were not objectively reasonable given the circumstances. The Fourth Amendment\\'s protection against unreasonable seizures requires that the force used by law enforcement be proportionate to the threat posed by the individual, and in this case, it appears that the officers\\' use of force was excessive and violated Graham\\'s rights. The \"objective reasonableness\" standard, which considers the totality of the circumstances from the perspective of a reasonable officer on the scene, is the appropriate test to apply in this case, rather than the four-part test from Johnson v. Glick.',\n",
       " ' I rule in favor of Dethorne Graham because the facts of the case suggest that the police officers used excessive force in handling Graham, who was experiencing a medical emergency and posed no threat to the officers. The officers\\' actions, including shoving Graham\\'s head into the hood of the car and struggling to place him in the squad car, were not objectively reasonable given the circumstances. The Fourth Amendment\\'s protection against unreasonable seizures requires that the force used by law enforcement be proportionate to the threat posed by the individual, and in this case, it appears that the officers\\' use of force was excessive and violated Graham\\'s rights. The \"objective reasonableness\" standard, which considers the totality of the circumstances from the perspective of a reasonable officer on the scene, is the appropriate test to apply in this case, rather than the four-part substantive due process test from Johnson v. Glick.',\n",
       " ' I rule in favor of Dethorne Graham because the actions of Officer M.S. Connor and the other police officers were not objectively reasonable under the Fourth Amendment. The officers used excessive force against Graham, who was experiencing a medical emergency and posed no threat to them. The fact that Graham was handcuffed, thrown against a car, and struggled with while trying to show his diabetic identification card suggests that the officers\\' actions were unreasonable and violated Graham\\'s rights. The \"objective reasonableness\" standard, which considers the totality of the circumstances from the perspective of a reasonable officer on the scene, is the appropriate test to apply in this case, rather than the four-part substantive due process test from Johnson v. Glick. Given the facts of the case, a reasonable jury could have found that the officers\\' use of force was excessive and unreasonable, and therefore, I rule in favor of Graham.',\n",
       " ' I rule in favor of Dethorne Graham because the actions of Officer M.S. Connor and the other police officers were not objectively reasonable under the Fourth Amendment. The officers used excessive force against Graham, who was experiencing a medical emergency and posed no threat to them. The fact that Graham was handcuffed, thrown against a car, and struggled with while trying to show his diabetic identification card suggests that the officers\\' actions were unreasonable and violated Graham\\'s rights. The \"good faith\" efforts of the officers are not relevant in this case, as their actions were not justified by the circumstances. An objective reasonableness standard under the Fourth Amendment would require the officers to use force that is proportionate to the threat posed by the individual, and in this case, the officers\\' actions were clearly excessive. Therefore, I would reverse the directed verdict and allow the case to proceed to trial to determine the merits of Graham\\'s claim.',\n",
       " ' I rule in favor of Dethorne Graham because the actions of Officer M.S. Connor and the other police officers were not objectively reasonable under the Fourth Amendment. The officers used excessive force against Graham, who was experiencing a medical emergency and posed no threat to them. The fact that Graham was handcuffed, thrown against a car, and struggled with while trying to show his diabetic identification card suggests that the officers\\' actions were unreasonable and violated Graham\\'s rights. The \"objective reasonableness\" standard, which considers the totality of the circumstances from the perspective of a reasonable officer on the scene, is the appropriate test to apply in this case, rather than the four-part substantive due process test from Johnson v. Glick. Given the facts of the case, a reasonable jury could have found that the officers\\' use of force was excessive and unreasonable, and therefore, I rule in favor of Graham.',\n",
       " ' I rule in favor of Dethorne Graham because the actions of Officer M.S. Connor and the other police officers were not objectively reasonable under the Fourth Amendment. The officers used excessive force against Graham, who was experiencing a medical emergency and posed no threat to them. The fact that Graham was handcuffed, thrown against a car, and struggled with while trying to show his diabetic identification card suggests that the officers\\' actions were unreasonable and violated Graham\\'s rights. The \"good faith\" efforts of the officers are not relevant in this case, as their actions were not justified by the circumstances. An objective reasonableness standard under the Fourth Amendment would require the officers to use force that is proportionate to the threat posed by the individual, and in this case, Graham posed no threat and was simply trying to manage his medical condition. Therefore, I find in favor of Graham.',\n",
       " ' I rule in favor of Dethorne Graham because the actions of Officer M.S. Connor and the other police officers were not objectively reasonable under the Fourth Amendment. The officers used excessive force against Graham, who was experiencing a medical emergency and posed no threat to them. The fact that Graham was handcuffed, thrown against a car, and struggled with while trying to show his diabetic identification card suggests that the officers\\' actions were unreasonable and violated Graham\\'s rights. The \"objective reasonableness\" standard, which considers the totality of the circumstances from the perspective of a reasonable officer on the scene, is the appropriate test to apply in this case, rather than the four-part substantive due process test from Johnson v. Glick. Given the facts of the case, a reasonable jury could have found that the officers\\' use of force was excessive and unreasonable, and therefore, I rule in favor of Graham.',\n",
       " ' I rule in favor of Dethorne Graham because the actions of Officer M.S. Connor and the other police officers were not objectively reasonable under the Fourth Amendment. The officers used excessive force against Graham, who was experiencing a medical emergency and posed no threat to them. The fact that Graham was handcuffed, thrown against a car, and struggled with while trying to show his diabetic identification card suggests that the officers\\' actions were unreasonable and violated Graham\\'s rights. The \"good faith\" efforts of the officers are not relevant in this case, as their actions were clearly excessive and caused harm to Graham. The Fourth Amendment\\'s objective reasonableness standard should be applied in this case, rather than the substantive due process test used by the district court and the Fourth Circuit.',\n",
       " ' I rule in favor of Dethorne Graham because the actions of Officer M.S. Connor and the other police officers were not objectively reasonable under the Fourth Amendment. The officers used excessive force against Graham, who was experiencing a medical emergency and posed no threat to them. The fact that Graham was handcuffed, thrown against a car, and struggled with while trying to show his diabetic identification card suggests that the officers\\' actions were unreasonable and violated Graham\\'s rights. The \"good faith\" efforts of the officers are not relevant in this case, as their actions were not justified by the circumstances. An objective reasonableness standard under the Fourth Amendment would require the officers to use force that is proportionate to the threat posed by the individual, and in this case, the officers\\' actions were clearly excessive. Therefore, I would reverse the directed verdict and allow the case to proceed to trial to determine whether the officers\\' use of force was indeed excessive and whether Graham\\'s rights were violated.',\n",
       " ' I rule in favor of Dethorne Graham because the actions of Officer M.S. Connor and the other police officers were not objectively reasonable under the Fourth Amendment. The officers used excessive force against Graham, who was experiencing a medical emergency and posed no threat to them. The fact that Graham was handcuffed, thrown against a car, and struggled with while trying to show his diabetic identification card suggests that the officers\\' actions were unreasonable and violated Graham\\'s rights. The \"good faith\" efforts of the officers are not relevant in this case, as their actions were not justified by the circumstances. An objective reasonableness standard under the Fourth Amendment would require the officers to take into account Graham\\'s medical condition and the lack of any threat he posed, and to use force only to the extent necessary to protect themselves and others. Since the officers failed to meet this standard, I rule in favor of Graham.',\n",
       " ' I rule in favor of Dethorne Graham because the actions of Officer M.S. Connor and the other police officers were not objectively reasonable under the Fourth Amendment. The officers used excessive force against Graham, who was experiencing a medical emergency and posed no threat to them. The fact that Graham was handcuffed, thrown against a car, and struggled with while trying to show his diabetic identification card suggests that the officers\\' actions were unreasonable and violated Graham\\'s rights. The \"good faith\" efforts of the officers are not relevant in this case, as their actions were not justified by the circumstances. An objective reasonableness standard under the Fourth Amendment would require the officers to use force that is proportionate to the threat posed by the individual, and in this case, the officers\\' actions were clearly excessive. Therefore, I find in favor of Graham.',\n",
       " ' I rule in favor of Dethorne Graham because the actions of Officer M.S. Connor and the other police officers were not objectively reasonable under the Fourth Amendment. The officers used excessive force against Graham, who was experiencing a medical emergency and posed no threat to them. The fact that Graham was handcuffed, thrown against a car, and struggled with while trying to show his diabetic identification card demonstrates a clear abuse of force. Given the circumstances, a reasonable officer would have recognized that Graham was in a state of medical distress and would have responded with more care and compassion, rather than with force and hostility. The \"objective reasonableness\" standard under the Fourth Amendment requires that officers use force that is proportionate to the threat posed by the individual, and in this case, the officers clearly failed to meet that standard.',\n",
       " ' I rule in favor of Dethorne Graham because the actions of Officer M.S. Connor and the other police officers were not objectively reasonable under the Fourth Amendment. The officers used excessive force against Graham, who was experiencing a medical emergency and posed no threat to them. The fact that Graham was handcuffed, thrown against a car, and struggled with while trying to show his diabetic identification card suggests that the officers\\' actions were unreasonable and violated Graham\\'s rights. The \"objective reasonableness\" standard, which considers the totality of the circumstances from the perspective of a reasonable officer on the scene, is the appropriate test to apply in this case, rather than the four-part substantive due process test from Johnson v. Glick. Given the facts of the case, a reasonable jury could have found that the officers\\' use of force was excessive and that Graham\\'s rights were violated.',\n",
       " ' I rule in favor of Dethorne Graham because the actions of Officer M.S. Connor and the other police officers were not objectively reasonable under the Fourth Amendment. The officers used excessive force against Graham, who was experiencing a medical emergency and posed no threat to them. The fact that Graham was handcuffed, thrown against a car, and struggled with while trying to show his diabetic identification card suggests that the officers\\' actions were unreasonable and violated Graham\\'s rights. The \"good faith\" efforts of the officers are not relevant in this case, as their actions were not justified by the circumstances. An objective reasonableness standard under the Fourth Amendment would require the officers to use force that is proportionate to the threat posed by the individual, and in this case, the officers\\' actions were clearly excessive. Therefore, I would reverse the directed verdict and allow the case to proceed to trial to determine the merits of Graham\\'s claim.',\n",
       " ' I rule in favor of Dethorne Graham because the actions of Officer M.S. Connor and the other police officers were not objectively reasonable under the Fourth Amendment. The officers used excessive force against Graham, who was experiencing a medical emergency and posed no threat to them. The fact that Graham was handcuffed, thrown against a car, and struggled with while trying to show his diabetic identification card suggests that the officers\\' actions were unreasonable and violated Graham\\'s rights. The \"good faith\" efforts of the officers are not relevant in this case, as their actions were clearly excessive and not justified by the circumstances. An objective reasonableness standard under the Fourth Amendment would require the officers to use force that is proportionate to the threat posed by the individual, and in this case, they failed to meet that standard. Therefore, I reverse the directed verdict and hold that a reasonable jury could find in Graham\\'s favor.',\n",
       " ' I rule in favor of Dethorne Graham because the actions of Officer M.S. Connor and the other police officers were not objectively reasonable under the Fourth Amendment. The officers used excessive force against Graham, who was experiencing a medical emergency and posed no threat to them. The fact that Graham was handcuffed, thrown against a car, and struggled with while trying to show his diabetic identification card suggests that the officers\\' actions were unreasonable and violated Graham\\'s rights. The \"good faith\" efforts of the officers are not relevant in this case, as their actions were clearly excessive and caused harm to Graham. The Fourth Amendment\\'s objective reasonableness standard should be applied to determine whether the officers\\' use of force was justified, and in this case, it was not.',\n",
       " ' I rule in favor of Dethorne Graham because the actions of Officer M.S. Connor and the other police officers were not objectively reasonable under the Fourth Amendment. The officers used excessive force against Graham, who was experiencing a medical emergency and posed no threat to them. The fact that Graham was handcuffed, thrown against a car, and struggled with while trying to show his diabetic identification card suggests that the officers\\' actions were unreasonable and violated Graham\\'s rights. The \"good faith\" efforts of the officers are not relevant in this case, as their actions were clearly excessive and not justified by the circumstances. An objective reasonableness standard under the Fourth Amendment would require the officers to use force that is proportionate to the threat posed by the individual, and in this case, they failed to meet that standard. Therefore, I reverse the directed verdict and hold that a reasonable jury could find in Graham\\'s favor.',\n",
       " ' I rule in favor of Dethorne Graham because the actions of Officer M.S. Connor and the other police officers were not objectively reasonable under the Fourth Amendment. The officers used excessive force against Graham, who was experiencing a medical emergency and posed no threat to them. The fact that Graham was handcuffed, thrown against a car, and struggled with while trying to show his diabetic identification card suggests that the officers\\' actions were unreasonable and violated Graham\\'s rights. The \"good faith\" efforts of the officers are not relevant in this case, as their actions were clearly excessive and not justified by the circumstances. An objective reasonableness standard under the Fourth Amendment would require the officers to use force that is proportionate to the threat posed by the individual, and in this case, the officers\\' actions fell short of that standard.',\n",
       " ' I rule in favor of Dethorne Graham because the actions of Officer M.S. Connor and the other police officers were not objectively reasonable under the Fourth Amendment. The officers used excessive force against Graham, who was experiencing a medical emergency and posed no threat to them. The fact that Graham was handcuffed, thrown against a car, and struggled with while trying to show his diabetic identification card suggests that the officers\\' actions were unreasonable and violated Graham\\'s rights. The \"good faith\" efforts of the officers are not relevant in this case, as their actions were clearly excessive and not justified by the circumstances. An objective reasonableness standard under the Fourth Amendment would require the officers to use force that is proportionate to the threat posed by the individual, and in this case, the officers\\' actions fell short of that standard.']"
      ]
     },
     "execution_count": 139,
     "metadata": {},
     "output_type": "execute_result"
    }
   ],
   "source": [
    "multi_pass_reasonings[1]"
   ]
  },
  {
   "cell_type": "code",
   "execution_count": 145,
   "metadata": {},
   "outputs": [],
   "source": [
    "deepseek_single_pass_answers = []\n",
    "deepseek_single_pass_reasonings = []\n",
    "\n",
    "for i in multi_pass_deepseek:\n",
    "    if \";\" in i[0].choices[0].message.content:\n",
    "        deepseek_single_pass_answers.append(i[0].choices[0].message.content.split(\";\")[0])\n",
    "        deepseek_single_pass_reasonings.append(i[0].choices[0].message.content.split(\";\")[1])\n",
    "    else:\n",
    "        deepseek_single_pass_answers.append(\"FALSE\")\n",
    "        deepseek_single_pass_reasonings.append(i[0].choices[0].message.content)"
   ]
  },
  {
   "cell_type": "code",
   "execution_count": 174,
   "metadata": {},
   "outputs": [],
   "source": [
    "deepseek_single_pass_answers_binary = []\n",
    "\n",
    "for i in deepseek_single_pass_answers:\n",
    "    if i == \"TRUE\":\n",
    "        deepseek_single_pass_answers_binary.append(1)\n",
    "    else:\n",
    "        deepseek_single_pass_answers_binary.append(0)"
   ]
  },
  {
   "cell_type": "code",
   "execution_count": 175,
   "metadata": {},
   "outputs": [],
   "source": [
    "majority_opinions[\"deepseek_prediction\"] = deepseek_single_pass_answers_binary\n",
    "majority_opinions[\"deepseek_reasoning\"] = deepseek_single_pass_reasonings"
   ]
  },
  {
   "cell_type": "code",
   "execution_count": 156,
   "metadata": {},
   "outputs": [],
   "source": [
    "llama_consistency_predictions = []\n",
    "for i in multi_pass_answers:\n",
    "    case_answers = []\n",
    "    for j in i:\n",
    "        if j == \"TRUE\":\n",
    "            case_answers.append(1)\n",
    "        else:\n",
    "            case_answers.append(0)\n",
    "    llama_consistency_predictions.append(case_answers)"
   ]
  },
  {
   "cell_type": "code",
   "execution_count": 157,
   "metadata": {},
   "outputs": [],
   "source": [
    "deepseek_consistency_predictions = []\n",
    "for i in deepseek_multi_pass_answers:\n",
    "    case_answers = []\n",
    "    for j in i:\n",
    "        if j == \"TRUE\":\n",
    "            case_answers.append(1)\n",
    "        else:\n",
    "            case_answers.append(0)\n",
    "    deepseek_consistency_predictions.append(case_answers)"
   ]
  },
  {
   "cell_type": "code",
   "execution_count": 158,
   "metadata": {},
   "outputs": [],
   "source": [
    "majority_opinions[\"llama_consistency_predictions\"] = llama_consistency_predictions\n",
    "majority_opinions[\"deepseek_consistency_predictions\"] = deepseek_consistency_predictions"
   ]
  },
  {
   "cell_type": "code",
   "execution_count": 188,
   "metadata": {},
   "outputs": [],
   "source": [
    "all_results = majority_opinions.copy()"
   ]
  },
  {
   "cell_type": "code",
   "execution_count": 189,
   "metadata": {},
   "outputs": [],
   "source": [
    "all_results.rename(columns={'llm_winner_prediction':'llama_prediction',\n",
    "       'first_party_winner_reasonings':'llama_reasoning'}, inplace=True)"
   ]
  },
  {
   "cell_type": "code",
   "execution_count": 190,
   "metadata": {},
   "outputs": [
    {
     "data": {
      "text/plain": [
       "Index(['name', 'term', 'facts', 'decision_type', 'first_party', 'second_party',\n",
       "       'first_party_winner', 'issue_area', 'facts_len', 'facts_cleaned',\n",
       "       'first_party_winner_binary', 'llama_prediction', 'llama_reasoning',\n",
       "       'llama_consistency_scores', 'deepseek_consistency_scores',\n",
       "       'deepseek_prediction', 'deepseek_reasoning',\n",
       "       'llama_consistency_reasonings', 'deepseek_consistency_reasonings',\n",
       "       'llama_consistency_predictions', 'deepseek_consistency_predictions'],\n",
       "      dtype='object')"
      ]
     },
     "execution_count": 190,
     "metadata": {},
     "output_type": "execute_result"
    }
   ],
   "source": [
    "all_results.columns"
   ]
  },
  {
   "cell_type": "code",
   "execution_count": 191,
   "metadata": {},
   "outputs": [],
   "source": [
    "all_results = all_results[['name', 'term', 'facts', 'decision_type', 'first_party', 'second_party',\n",
    "       'first_party_winner', 'issue_area', 'facts_len', 'facts_cleaned',\n",
    "       'first_party_winner_binary', 'llama_prediction', 'llama_reasoning',\n",
    "       'llama_consistency_predictions', 'llama_consistency_reasonings', 'llama_consistency_scores',\n",
    "       'deepseek_prediction', 'deepseek_reasoning', 'deepseek_consistency_predictions','deepseek_consistency_reasonings', 'deepseek_consistency_scores']]"
   ]
  },
  {
   "cell_type": "code",
   "execution_count": 192,
   "metadata": {},
   "outputs": [
    {
     "data": {
      "text/plain": [
       "Index(['name', 'term', 'facts', 'decision_type', 'first_party', 'second_party',\n",
       "       'first_party_winner', 'issue_area', 'facts_len', 'facts_cleaned',\n",
       "       'first_party_winner_binary', 'llama_prediction', 'llama_reasoning',\n",
       "       'llama_consistency_predictions', 'llama_consistency_reasonings',\n",
       "       'llama_consistency_scores', 'deepseek_prediction', 'deepseek_reasoning',\n",
       "       'deepseek_consistency_predictions', 'deepseek_consistency_reasonings',\n",
       "       'deepseek_consistency_scores'],\n",
       "      dtype='object')"
      ]
     },
     "execution_count": 192,
     "metadata": {},
     "output_type": "execute_result"
    }
   ],
   "source": [
    "all_results.columns"
   ]
  },
  {
   "cell_type": "code",
   "execution_count": 193,
   "metadata": {},
   "outputs": [],
   "source": [
    "all_results.to_csv('final_results.csv', index=True)"
   ]
  },
  {
   "cell_type": "code",
   "execution_count": 207,
   "metadata": {},
   "outputs": [
    {
     "data": {
      "text/html": [
       "<div>\n",
       "<style scoped>\n",
       "    .dataframe tbody tr th:only-of-type {\n",
       "        vertical-align: middle;\n",
       "    }\n",
       "\n",
       "    .dataframe tbody tr th {\n",
       "        vertical-align: top;\n",
       "    }\n",
       "\n",
       "    .dataframe thead th {\n",
       "        text-align: right;\n",
       "    }\n",
       "</style>\n",
       "<table border=\"1\" class=\"dataframe\">\n",
       "  <thead>\n",
       "    <tr style=\"text-align: right;\">\n",
       "      <th></th>\n",
       "      <th>first_party_winner_binary</th>\n",
       "      <th>deepseek_consistency_predictions</th>\n",
       "      <th>deepseek_consistency_reasonings</th>\n",
       "      <th>deepseek_consistency_scores</th>\n",
       "    </tr>\n",
       "  </thead>\n",
       "  <tbody>\n",
       "    <tr>\n",
       "      <th>3086</th>\n",
       "      <td>1</td>\n",
       "      <td>[1, 1, 1, 0, 1, 1, 1, 1, 1, 1, 1, 1, 1, 0, 1, ...</td>\n",
       "      <td>[ The Supreme Court ruled in favor of Fane Loz...</td>\n",
       "      <td>85.0</td>\n",
       "    </tr>\n",
       "    <tr>\n",
       "      <th>3218</th>\n",
       "      <td>1</td>\n",
       "      <td>[0, 1, 0, 1, 0, 0, 0, 1, 0, 0, 0, 1, 0, 1, 0, ...</td>\n",
       "      <td>[ The Supreme Court would likely rule against ...</td>\n",
       "      <td>65.0</td>\n",
       "    </tr>\n",
       "    <tr>\n",
       "      <th>3264</th>\n",
       "      <td>1</td>\n",
       "      <td>[0, 0, 0, 0, 0, 1, 0, 0, 0, 0, 0, 0, 1, 0, 0, ...</td>\n",
       "      <td>[ The reasoning for this decision is based on ...</td>\n",
       "      <td>90.0</td>\n",
       "    </tr>\n",
       "  </tbody>\n",
       "</table>\n",
       "</div>"
      ],
      "text/plain": [
       "      first_party_winner_binary  \\\n",
       "3086                          1   \n",
       "3218                          1   \n",
       "3264                          1   \n",
       "\n",
       "                       deepseek_consistency_predictions  \\\n",
       "3086  [1, 1, 1, 0, 1, 1, 1, 1, 1, 1, 1, 1, 1, 0, 1, ...   \n",
       "3218  [0, 1, 0, 1, 0, 0, 0, 1, 0, 0, 0, 1, 0, 1, 0, ...   \n",
       "3264  [0, 0, 0, 0, 0, 1, 0, 0, 0, 0, 0, 0, 1, 0, 0, ...   \n",
       "\n",
       "                        deepseek_consistency_reasonings  \\\n",
       "3086  [ The Supreme Court ruled in favor of Fane Loz...   \n",
       "3218  [ The Supreme Court would likely rule against ...   \n",
       "3264  [ The reasoning for this decision is based on ...   \n",
       "\n",
       "      deepseek_consistency_scores  \n",
       "3086                         85.0  \n",
       "3218                         65.0  \n",
       "3264                         90.0  "
      ]
     },
     "execution_count": 207,
     "metadata": {},
     "output_type": "execute_result"
    }
   ],
   "source": [
    "all_results[all_results['deepseek_consistency_scores']<100][['first_party_winner_binary','deepseek_consistency_predictions', 'deepseek_consistency_reasonings', 'deepseek_consistency_scores']]"
   ]
  },
  {
   "cell_type": "code",
   "execution_count": 198,
   "metadata": {},
   "outputs": [
    {
     "name": "stdout",
     "output_type": "stream",
     "text": [
      "first_party_winner_binary   0   1\n",
      "deepseek_prediction              \n",
      "0                          12  22\n",
      "1                           0   6\n"
     ]
    }
   ],
   "source": [
    "contingency_matrix = pd.crosstab(all_results[\"deepseek_prediction\"], all_results[\"first_party_winner_binary\"])\n",
    "\n",
    "print(contingency_matrix)"
   ]
  },
  {
   "cell_type": "code",
   "execution_count": 201,
   "metadata": {},
   "outputs": [
    {
     "name": "stdout",
     "output_type": "stream",
     "text": [
      " The Supreme Court ruled in favor of Fane Lozman, holding that a plaintiff can pursue a First Amendment retaliatory arrest claim even if there was probable cause for the arrest. The Court found that the existence of probable cause does not automatically defeat a First Amendment retaliatory arrest claim. The Court emphasized that Lozman's case presented unique circumstances, including evidence that the City had a policy of targeting him for his speech, which warranted further examination of his claim. The Court remanded the case for further proceedings consistent with its opinion.\n",
      "----------\n",
      "----------\n",
      " The Supreme Court ruled in favor of Fane Lozman, holding that the existence of probable cause does not necessarily bar a First Amendment retaliatory arrest claim. The Court emphasized that Lozman's case presented unique circumstances where the arrest was allegedly motivated by retaliation for his protected speech, rather than solely based on probable cause. The Court found that Lozman had provided sufficient evidence to suggest that his arrest was retaliatory, and thus, the case should be reconsidered in light of this precedent. The Court's decision underscores the importance of protecting individuals' First Amendment rights, even in the context of law enforcement actions supported by probable cause.\n",
      "----------\n",
      "----------\n",
      " The Supreme Court ruled in favor of Fane Lozman, holding that the existence of probable cause does not necessarily defeat a First Amendment retaliatory arrest claim. The Court emphasized that Lozman's case presented unique circumstances where the arrest was allegedly motivated by retaliation for his protected speech, rather than solely based on probable cause. The Court found that Lozman had provided sufficient evidence to suggest that his arrest was retaliatory, and thus, the case should be reconsidered in light of this precedent. This decision underscores the importance of protecting individuals' First Amendment rights against government retaliation, even when probable cause for an arrest exists.\n",
      "----------\n",
      "----------\n",
      " The Supreme Court would likely rule in favor of the City of Riviera Beach, Florida, based on the facts presented. The key issue here is whether Lozman's arrest was retaliatory and violated his First Amendment rights. However, the jury found that there was probable cause for his arrest on the charge of disturbing a lawful assembly, which is a critical factor in this case. Under established legal precedent, a finding of probable cause generally bars a claim for false arrest under both the First and Fourth Amendments, as well as under state law. The Eleventh Circuit upheld this principle, and the Supreme Court's grant of certiorari did not include challenges to the jury instructions or the retaliatory animus issue. Therefore, given the jury's finding of probable cause and the appellate court's affirmation, the Supreme Court would likely not rule in favor of Lozman.\n",
      "----------\n",
      "----------\n",
      " The Supreme Court ruled in favor of Fane Lozman, holding that the existence of probable cause does not necessarily bar a First Amendment retaliatory arrest claim. The Court found that Lozman had presented sufficient evidence to suggest that his arrest was motivated by retaliatory animus due to his opposition to the City's redevelopment plan and his vocal criticism of local government corruption. The Court emphasized that the First Amendment protects individuals from government retaliation for their speech, and the presence of probable cause does not automatically immunize officials from liability for such retaliation. Therefore, the Court concluded that Lozman's claim should be reconsidered in light of this ruling.\n",
      "----------\n",
      "----------\n",
      " The Supreme Court ruled in favor of Fane Lozman, holding that the existence of probable cause does not necessarily bar a First Amendment retaliatory arrest claim. The Court found that Lozman had presented sufficient evidence to suggest that his arrest was motivated by retaliatory animus due to his opposition to the City's redevelopment plan. The Court emphasized that the First Amendment protects individuals from government retaliation for their speech, and the presence of probable cause does not automatically immunize officials from liability for such retaliation. Therefore, the case was remanded for further proceedings consistent with this ruling.\n",
      "----------\n",
      "----------\n",
      " The Supreme Court has previously ruled in favor of Fane Lozman in a related case, Lozman v. City of Riviera Beach, Florida, 585 U.S. ___ (2018), where it held that a plaintiff can pursue a First Amendment retaliatory arrest claim even if there was probable cause for the arrest, provided the plaintiff can show that the arrest was in retaliation for protected speech. Given the facts presented, where Lozman alleges that his arrest was in retaliation for his opposition to the redevelopment plan and his vocal criticism of the City, and considering the Supreme Court's precedent on retaliatory arrest claims, it is reasonable to rule in favor of Lozman. The Court would likely find that Lozman has a valid claim under the First Amendment for retaliatory arrest, notwithstanding the jury's finding of probable cause, as the existence of probable cause does not automatically defeat a First Amendment retaliatory arrest claim.\n",
      "----------\n",
      "----------\n",
      " The Supreme Court ruled in favor of Fane Lozman, holding that the existence of probable cause does not necessarily bar a First Amendment retaliatory arrest claim. The Court emphasized that Lozman's case presented unique circumstances where the arrest was allegedly motivated by his prior criticism of the City's redevelopment plan, which raised significant First Amendment concerns. The Court found that Lozman's claim should be evaluated based on whether the arrest was retaliatory, independent of the probable cause determination. This ruling allows Lozman to pursue his claim that the City arrested him in retaliation for his protected speech, despite the jury's finding of probable cause.\n",
      "----------\n",
      "----------\n",
      " The Supreme Court ruled in favor of Fane Lozman, holding that the existence of probable cause does not necessarily bar a First Amendment retaliatory arrest claim. The Court emphasized that Lozman's case presented unique circumstances where the arrest was allegedly motivated by retaliation for his protected speech, rather than solely based on probable cause. The Court found that Lozman had provided sufficient evidence to suggest that his arrest was in retaliation for his opposition to the City's redevelopment plan, and thus, the case should be reconsidered under the proper legal framework for First Amendment retaliatory arrest claims. This ruling allows Lozman to pursue his claim that his arrest was retaliatory, despite the jury's finding of probable cause.\n",
      "----------\n",
      "----------\n",
      " The facts suggest that Fane Lozman's arrest at the city council meeting may have been retaliatory, targeting his vocal opposition to the City's redevelopment plan. While the jury found probable cause for the arrest, the circumstances—including the council's closed-door discussions about intimidating Lozman and the dismissal of charges due to the unlikelihood of successful prosecution—raise significant concerns about the City's motives. Given the potential violation of Lozman's First Amendment rights through retaliatory arrest, and considering the Supreme Court's role in safeguarding constitutional protections, I would rule in favor of Lozman. The case underscores the importance of protecting free speech, particularly when it involves criticism of government actions.\n",
      "----------\n",
      "----------\n",
      " The Supreme Court ruled in favor of Fane Lozman, holding that the existence of probable cause does not necessarily bar a First Amendment retaliatory arrest claim. The Court found that Lozman had presented sufficient evidence to suggest that his arrest was motivated by retaliatory animus due to his opposition to the City's redevelopment plan. The Court emphasized that the First Amendment protects individuals from government retaliation for their speech, and the presence of probable cause does not automatically immunize the government from liability for such retaliation. Therefore, the case was remanded for further proceedings consistent with the Court's opinion.\n",
      "----------\n",
      "----------\n",
      " The Supreme Court ruled in favor of Fane Lozman, holding that the existence of probable cause does not necessarily bar a First Amendment retaliatory arrest claim. The Court emphasized that Lozman's case presented unique circumstances where the arrest was allegedly motivated by his protected speech, and the jury should have been allowed to consider whether the arrest was retaliatory, independent of the probable cause determination. The Court found that the lower courts erred in dismissing Lozman's claim solely based on the existence of probable cause, as this approach failed to adequately protect First Amendment rights. The case was remanded for further proceedings consistent with the Court's ruling.\n",
      "----------\n",
      "----------\n",
      " The Supreme Court ruled in favor of Fane Lozman, holding that the existence of probable cause does not necessarily bar a First Amendment retaliatory arrest claim. The Court emphasized that Lozman's case presented unique circumstances where his arrest appeared to be directly linked to his outspoken criticism of the City's actions, particularly his opposition to the redevelopment plan and his lawsuit under the Florida Sunshine Law. The Court found that Lozman's arrest, while supported by probable cause, could still be challenged as retaliatory under the First Amendment if the arrest was motivated by his protected speech. This ruling recognized that retaliatory arrests, even when supported by probable cause, can violate the First Amendment if the arrest was primarily motivated by the individual's exercise of free speech. The Court remanded the case for further proceedings consistent with its decision.\n",
      "----------\n",
      "----------\n",
      " The jury found in favor of the City on all claims, and the Eleventh Circuit upheld this decision, stating that a finding of probable cause bars a claim for false arrest under the First Amendment, the Fourth Amendment, and state law. Additionally, the Eleventh Circuit rejected Lozman's challenges to the jury instructions, finding any potential errors to be harmless given the jury's probable cause finding. Therefore, based on the facts presented and the legal reasoning of the lower courts, I would not rule in favor of Fane Lozman.\n",
      "----------\n",
      "----------\n",
      " The Supreme Court ruled in favor of Fane Lozman, holding that the existence of probable cause does not necessarily bar a First Amendment retaliatory arrest claim. The Court emphasized that Lozman's case presented unique circumstances where the arrest was allegedly motivated by retaliation for his protected speech, rather than solely based on probable cause. The Court found that Lozman had provided sufficient evidence to suggest that his arrest was in retaliation for his opposition to the City's redevelopment plan, and thus, his First Amendment claim should be considered independently of the probable cause determination. This ruling allows for the possibility that a plaintiff can pursue a retaliatory arrest claim even if probable cause existed for the arrest, provided they can demonstrate that the arrest was motivated by retaliation for protected speech.\n",
      "----------\n",
      "----------\n",
      " The Supreme Court ruled in favor of Fane Lozman, holding that the existence of probable cause does not necessarily defeat a First Amendment retaliatory arrest claim. The Court emphasized that the First Amendment protects against government retaliation for speech, and the presence of probable cause does not automatically immunize the government from liability if the arrest was motivated by retaliation for the individual's speech. The Court found that Lozman presented sufficient evidence to suggest that his arrest was retaliatory, and thus, the case was remanded for further proceedings to determine whether the arrest was indeed motivated by his protected speech. This decision underscores the importance of safeguarding First Amendment rights against government actions that may chill free expression.\n",
      "----------\n",
      "----------\n",
      " The Supreme Court ruled in favor of Fane Lozman, holding that the existence of probable cause does not necessarily defeat a First Amendment retaliatory arrest claim. The Court found that Lozman had presented sufficient evidence to suggest that his arrest was motivated by his prior criticisms of the City, rather than solely by his conduct at the city council meeting. The Court emphasized that the First Amendment protects individuals from government retaliation for their speech, and that Lozman's claim should be evaluated based on whether his arrest was in retaliation for his protected speech, regardless of the existence of probable cause for the arrest. The case was remanded for further proceedings consistent with this ruling.\n",
      "----------\n",
      "----------\n",
      " Fane Lozman's arrest at the city council meeting appears to be a retaliatory action by the City of Riviera Beach in response to his vocal opposition to the redevelopment plan and his lawsuit against the City. The facts suggest that the City's actions were motivated by Lozman's criticism and legal challenges, which are protected under the First Amendment. The arrest, under the guise of disturbing a lawful assembly, seems to have been used as a tool to silence dissent, which is a violation of Lozman's constitutional rights. Therefore, ruling in favor of Lozman is appropriate to uphold the principles of free speech and protection against retaliatory government actions.\n",
      "----------\n",
      "----------\n",
      " The Supreme Court ruled in favor of Fane Lozman, holding that the existence of probable cause does not necessarily defeat a First Amendment retaliatory arrest claim. The Court emphasized that Lozman's case presented unique circumstances where the arrest was allegedly motivated by retaliation for his protected speech, rather than solely based on probable cause. The Court found that Lozman's evidence of retaliatory animus, including the city council's prior discussions about intimidating him, warranted further consideration. Therefore, the Court vacated the Eleventh Circuit's decision and remanded the case for further proceedings consistent with its ruling.\n",
      "----------\n",
      "----------\n",
      " The Supreme Court would likely rule against Fane Lozman based on the facts presented. The Eleventh Circuit's decision, which found that the jury's determination of probable cause for Lozman's arrest was supported by the evidence, is a critical factor. The existence of probable cause generally bars claims for false arrest under both the First and Fourth Amendments, as well as under state law. Additionally, the Eleventh Circuit found that any potential errors in the jury instructions regarding retaliatory animus and the City's authority to limit public comment were harmless, given the jury's probable cause finding. Since the Supreme Court's grant of certiorari did not include these issues, there is no basis to overturn the lower court's rulings on these points. Therefore, the Supreme Court would likely affirm the lower court's decision in favor of the City of Riviera Beach.\n",
      "----------\n",
      "----------\n"
     ]
    }
   ],
   "source": [
    "for i in all_results.loc[3086, \"deepseek_consistency_reasonings\"]:\n",
    "    print(i)\n",
    "    print (\"----------\")\n",
    "    print (\"----------\")"
   ]
  },
  {
   "cell_type": "code",
   "execution_count": 202,
   "metadata": {},
   "outputs": [
    {
     "name": "stdout",
     "output_type": "stream",
     "text": [
      " The Supreme Court would likely rule against Noris Babb based on the legal standards in place at the time of the case. Under Title VII of the Civil Rights Act of 1964 and the Age Discrimination in Employment Act of 1967 (ADEA), federal sector employees like Babb must demonstrate that discrimination or retaliation was a \"but for\" cause of the adverse employment action. The Eleventh Circuit, bound by precedent, affirmed the district court's decision that Babb failed to meet this burden. The Supreme Court, adhering to the established legal framework, would likely uphold the lower courts' rulings, as Babb did not provide sufficient evidence to prove that discrimination or retaliation was the decisive factor in the VA's decision-making process.\n",
      "----------\n",
      "----------\n",
      " The facts presented indicate that Noris Babb was subjected to potential gender-plus-age discrimination and retaliation for her participation in protected Equal Employment Opportunity (EEO) activities. The denial of opportunities and the imposition of an unworkable schedule, leading to the removal of her advanced scope and disqualification from promotion, suggest that her involvement in the EEO process was a motivating factor in the adverse actions taken against her. Given the protections afforded under Title VII of the Civil Rights Act of 1964 and the Age Discrimination in Employment Act of 1967 (ADEA), it is reasonable to conclude that Babb's rights under these statutes were violated. Therefore, ruling in favor of Noris Babb is justified to uphold the principles of non-discrimination and protection against retaliation in the workplace.\n",
      "----------\n",
      "----------\n",
      " The Supreme Court would likely rule against Noris Babb based on the facts presented and the legal standards applicable at the time. Under Title VII of the Civil Rights Act of 1964 and the Age Discrimination in Employment Act of 1967 (ADEA), federal sector employees like Babb must demonstrate that discrimination or retaliation was a \"but for\" cause of the adverse employment action. The Eleventh Circuit, bound by precedent, affirmed the district court's decision that Babb failed to meet this standard. The Supreme Court, adhering to established precedent and the statutory framework in place in 2019, would likely uphold the lower courts' rulings, as Babb did not sufficiently prove that discrimination or retaliation was the decisive factor in the VA's actions.\n",
      "----------\n",
      "----------\n",
      " The facts of the case suggest that Noris Babb was subjected to gender-plus-age discrimination and retaliation for her participation in protected Equal Employment Opportunity (EEO) activities. The denial of opportunities to participate in the new program, the imposition of an unworkable schedule, and the subsequent removal of her advanced scope, which disqualified her from promotion, all point to discriminatory and retaliatory actions by the VA. The district court's grant of summary judgment for the VA and the Eleventh Circuit's affirmation based on precedent requiring a \"but for\" factor in adverse personnel actions do not adequately address the possibility that discrimination or retaliation was a \"motivating factor\" in the VA's decisions. Given the evidence of discriminatory practices and retaliation, it is reasonable to rule in favor of Noris Babb, recognizing that her rights under Title VII of the Civil Rights Act of 1964 and the Age Discrimination in Employment Act of 1967 were violated.\n",
      "----------\n",
      "----------\n",
      " The Supreme Court would likely rule against Noris Babb based on the legal standards in place at the time. Under Title VII of the Civil Rights Act of 1964 and the Age Discrimination in Employment Act of 1967 (ADEA), federal sector employees like Babb must demonstrate that discrimination or retaliation was a \"but for\" cause of the adverse employment action. The Eleventh Circuit, bound by precedent, affirmed the district court's decision that Babb failed to meet this burden. The Supreme Court, adhering to the established legal framework, would likely uphold the lower courts' rulings, as Babb did not sufficiently prove that her gender or age, or her participation in the EEO process, was the decisive factor in the VA's decision to deny her promotion.\n",
      "----------\n",
      "----------\n",
      " The Supreme Court would likely rule against Noris Babb based on the legal standards in place at the time. Under Title VII of the Civil Rights Act of 1964 and the Age Discrimination in Employment Act of 1967 (ADEA), federal sector employees like Babb must demonstrate that discrimination or retaliation was a \"but for\" cause of the adverse employment action. The Eleventh Circuit, bound by precedent, affirmed the district court's decision that Babb failed to meet this burden. The Supreme Court, adhering to the established legal framework, would likely uphold the lower courts' rulings, as Babb did not sufficiently prove that discrimination or retaliation was the decisive factor in the VA's actions. Thus, the ruling would not be in her favor.\n",
      "----------\n",
      "----------\n",
      " The reasoning for this decision is based on the legal standards applicable to the case at the time. Under Title VII of the Civil Rights Act of 1964 and the Age Discrimination in Employment Act of 1967 (ADEA), as interpreted by precedent in 2019, federal sector employees like Noris Babb were required to demonstrate that discrimination or retaliation was a \"but for\" factor in the adverse employment action. This means that Babb needed to prove that she would not have been denied the promotion or had her advanced scope removed but for her gender and age or her participation in the EEO process. The district court and the Eleventh Circuit found that Babb did not meet this burden of proof, leading to the grant of summary judgment for the VA. As a Supreme Court Justice, I would uphold this decision based on the existing legal framework and the evidence presented, which did not sufficiently establish that discrimination or retaliation was the decisive factor in the VA's actions.\n",
      "----------\n",
      "----------\n",
      " The facts presented suggest that Noris Babb was subjected to potential gender-plus-age discrimination and retaliation for her participation in protected EEO activities. The denial of advancement opportunities to female pharmacists over 50, coupled with the selection of a younger, less qualified candidate, raises concerns about discriminatory practices. Additionally, the removal of Babb's advanced scope and her subsequent disqualification from promotion following her support of EEO claims indicate possible retaliation. Under Title VII of the Civil Rights Act of 1964 and the Age Discrimination in Employment Act of 1967, these actions could be seen as violations if discrimination or retaliation was a motivating factor in the adverse personnel decisions. Therefore, ruling in favor of Noris Babb would be appropriate to address these potential violations of federal employment law.\n",
      "----------\n",
      "----------\n",
      " The Supreme Court would likely rule against Noris Babb based on the legal standards in place at the time. Under Title VII of the Civil Rights Act of 1964 and the Age Discrimination in Employment Act of 1967 (ADEA), federal sector employees like Babb must demonstrate that discrimination or retaliation was a \"but for\" cause of the adverse employment action. The Eleventh Circuit, bound by precedent, affirmed the district court's decision that Babb failed to meet this burden. The Supreme Court, consistent with its prior interpretations of these statutes, would likely uphold the lower courts' rulings, as Babb did not provide sufficient evidence to prove that her gender or age, or her participation in the EEO process, was the decisive factor in the VA's decision-making. Thus, the Court would not find in her favor.\n",
      "----------\n",
      "----------\n",
      " The Supreme Court would likely rule against Noris Babb based on the legal standards in place at the time. Under Title VII of the Civil Rights Act of 1964 and the Age Discrimination in Employment Act of 1967 (ADEA), federal sector employees like Babb must demonstrate that discrimination or retaliation was a \"but for\" cause of the adverse employment action. The Eleventh Circuit, bound by precedent, affirmed the district court's decision that Babb failed to meet this burden. The Supreme Court, adhering to established precedent and the statutory framework as of 2019, would likely uphold the lower courts' rulings, as Babb did not sufficiently prove that discrimination or retaliation was the decisive factor in the VA's actions.\n",
      "----------\n",
      "----------\n",
      " The Supreme Court would likely rule against Noris Babb based on the legal standards in place at the time of the case. Under Title VII of the Civil Rights Act of 1964 and the Age Discrimination in Employment Act of 1967 (ADEA), federal sector employees like Babb are required to demonstrate that discrimination or retaliation was a \"but for\" cause of the adverse employment action. This means that Babb would need to prove that she would not have been denied the promotion or had her advanced scope removed if not for her gender and age or her participation in the EEO process. The Eleventh Circuit, bound by precedent, found that Babb did not meet this burden, and the Supreme Court would likely defer to this factual determination and legal conclusion. Additionally, the Supreme Court has historically been cautious about expanding the scope of liability under Title VII and ADEA without clear statutory language or compelling evidence of discriminatory intent. Babb's claims of gender-plus-age discrimination and retaliation, while serious, do not appear to meet the stringent \"but for\" causation standard required under the law as interpreted at the time. Therefore, the Court would likely affirm the lower court's decision.\n",
      "----------\n",
      "----------\n",
      " The facts of the case suggest that Noris Babb faced potential gender-plus-age discrimination and retaliation for her participation in protected Equal Employment Opportunity (EEO) activities. Title VII of the Civil Rights Act of 1964 and the Age Discrimination in Employment Act of 1967 (ADEA) protect employees from such discrimination and retaliation. The denial of opportunities and the imposition of an unworkable schedule, leading to the removal of her advanced scope and disqualification from promotion, appear to be adverse actions that could be linked to her protected activities. The requirement to prove discrimination or retaliation as a \"but for\" factor, as imposed by the Eleventh Circuit, may be too stringent and not in line with the broader protections intended by Title VII and the ADEA, which allow for a \"motivating factor\" standard. Therefore, it is reasonable to rule in favor of Noris Babb, allowing her the opportunity to prove that illegal discrimination or retaliation was a motivating factor in the VA's actions.\n",
      "----------\n",
      "----------\n",
      " The Court rules against Noris Babb based on the legal standards applicable at the time of the case. Under Title VII of the Civil Rights Act of 1964 and the Age Discrimination in Employment Act of 1967 (ADEA), federal sector employees like Babb must demonstrate that discrimination or retaliation was a \"but for\" cause of the adverse employment action. The Eleventh Circuit, bound by precedent, affirmed the district court's decision that Babb failed to meet this burden. While Babb argued that discrimination or retaliation was a \"motivating factor,\" the legal standard required her to prove it was the decisive factor. The Court finds no basis to overturn the lower courts' rulings, as Babb did not establish that her participation in the EEO process or her age and gender were the \"but for\" reasons for the VA's actions. Thus, the ruling in favor of the VA is upheld.\n",
      "----------\n",
      "----------\n",
      " The facts of the case suggest that Noris Babb was subjected to gender-plus-age discrimination and retaliation for her participation in the EEO process, which is protected activity under Title VII of the Civil Rights Act of 1964 and the Age Discrimination in Employment Act of 1967 (ADEA). The denial of opportunities to participate in the new program, the imposition of an unworkable schedule, the removal of her advanced scope, and her subsequent disqualification from promotion, all following her support of her colleagues' EEO claims, indicate a pattern of retaliatory behavior by the VA. Furthermore, the selection of a younger, less qualified female pharmacist for the promotion raises questions about the fairness and non-discriminatory nature of the VA's decision-making process. Given these circumstances, it is reasonable to conclude that discrimination and retaliation were motivating factors in the VA's actions against Babb. Therefore, the Supreme Court should rule in favor of Noris Babb, allowing her the opportunity to prove that illegal discrimination or retaliation was a motivating factor behind the VA's refusal to promote her.\n",
      "----------\n",
      "----------\n",
      " The Supreme Court would likely rule against Noris Babb based on the legal standards in place at the time. Under Title VII of the Civil Rights Act of 1964 and the Age Discrimination in Employment Act of 1967 (ADEA), federal sector employees like Babb must demonstrate that discrimination or retaliation was a \"but for\" cause of the adverse employment action, meaning that the action would not have occurred absent the discriminatory or retaliatory motive. The Eleventh Circuit, bound by precedent, affirmed the district court's summary judgment for the VA, finding that Babb failed to meet this \"but for\" causation standard. The Supreme Court, adhering to established precedent and statutory interpretation as of 2019, would likely uphold this decision, as Babb did not provide sufficient evidence to prove that discrimination or retaliation was the decisive factor in the VA's actions.\n",
      "----------\n",
      "----------\n",
      " The facts of the case indicate that Noris Babb alleged gender-plus-age discrimination and retaliation under Title VII of the Civil Rights Act of 1964 and the Age Discrimination in Employment Act of 1967 (ADEA). However, the district court granted summary judgment for the VA, and the Eleventh Circuit affirmed this decision, citing precedent that requires federal sector employees to show that discrimination or retaliation was a \"but for\" factor in the adverse personnel action. Given that the Eleventh Circuit found itself bound by this precedent and affirmed the lower court's decision, I would rule in favor of the second party, Robert Wilkie, Secretary of Veterans Affairs, and against Noris Babb. The legal standard applied by the courts in this case does not support Babb's claim under the existing precedent at the time.\n",
      "----------\n",
      "----------\n",
      " The reasoning for this decision is based on the legal standards applicable at the time of the case. Under Title VII of the Civil Rights Act of 1964 and the Age Discrimination in Employment Act of 1967 (ADEA), federal sector employees like Noris Babb must demonstrate that discrimination or retaliation was a \"but for\" cause of the adverse employment action. The Eleventh Circuit, following precedent, found that Babb did not meet this standard. The court concluded that Babb failed to show that her gender-plus-age discrimination claims or her retaliation claims were the \"but for\" cause of the VA's decision to deny her promotion. Therefore, the lower court's grant of summary judgment in favor of the VA was affirmed, and Babb's claims were not upheld.\n",
      "----------\n",
      "----------\n",
      " The facts presented suggest that Noris Babb was subjected to potential gender-plus-age discrimination and retaliation for her participation in protected EEO activities. The denial of opportunities and the imposition of an unworkable schedule, leading to the removal of her advanced scope and disqualification from promotion, appear to be adverse actions that could be linked to her support of the EEO claims. The requirement to prove discrimination or retaliation as a \"but for\" factor, as imposed by the Eleventh Circuit, may be overly restrictive and not in line with the broader protections intended by Title VII and the ADEA. Therefore, ruling in favor of Noris Babb would align with the principles of anti-discrimination and anti-retaliation laws, ensuring that employees are protected from adverse actions based on their participation in EEO processes and from discriminatory practices.\n",
      "----------\n",
      "----------\n",
      " The facts presented suggest that Noris Babb was subjected to potential gender-plus-age discrimination and retaliation for her participation in protected EEO activities. The denial of her advanced scope and subsequent disqualification from promotion, particularly in light of the selection of a younger, less qualified female pharmacist, raises significant concerns about discriminatory motives. The requirement to adhere to an unworkable schedule and the removal of her advanced scope appear to be retaliatory actions following her support of the EEO claims. Under Title VII of the Civil Rights Act of 1964 and the Age Discrimination in Employment Act of 1967, Babb should be allowed to prove that discrimination or retaliation was a \"motivating factor\" in the adverse employment actions taken against her. The precedent cited by the Eleventh Circuit, which requires a \"but for\" standard, may be overly restrictive and inconsistent with the broader protections intended by these statutes. Therefore, I would rule in favor of Noris Babb, allowing her case to proceed under the \"motivating factor\" standard.\n",
      "----------\n",
      "----------\n",
      " The Supreme Court would likely rule against Noris Babb based on the legal standards and precedents in place at the time of the case. Under Title VII of the Civil Rights Act of 1964 and the Age Discrimination in Employment Act of 1967 (ADEA), federal sector employees like Babb must demonstrate that discrimination or retaliation was a \"but for\" cause of the adverse employment action. The Eleventh Circuit, following existing precedent, found that Babb failed to meet this burden. The Supreme Court, adhering to the same legal framework, would likely affirm the lower courts' decisions, as Babb did not provide sufficient evidence to prove that her gender or age, or her participation in the EEO process, was the decisive factor in the VA's decision not to promote her.\n",
      "----------\n",
      "----------\n"
     ]
    }
   ],
   "source": [
    "for i in all_results.loc[3218, \"deepseek_consistency_reasonings\"]:\n",
    "    print(i)\n",
    "    print (\"----------\")\n",
    "    print (\"----------\")"
   ]
  },
  {
   "cell_type": "code",
   "execution_count": 203,
   "metadata": {},
   "outputs": [
    {
     "name": "stdout",
     "output_type": "stream",
     "text": [
      " The reasoning for this decision is based on the procedural posture and the legal principles at play in 2019. The case involves the expansion of exemptions to the contraceptive coverage requirement under the ACA, which was challenged by the Commonwealth of Pennsylvania and the State of New Jersey. The district court issued a nationwide injunction against the enforcement of the expanded exemptions, and the Third Circuit affirmed this decision. The Supreme Court, in considering whether to rule in favor of The Little Sisters of the Poor Saints Peter and Paul Home, would need to evaluate whether the expanded exemptions violate the Administrative Procedure Act (APA) and other relevant laws. Given that the lower courts found the states likely to succeed on their APA claim, and considering the procedural deference typically given to lower courts' findings, the Supreme Court would likely uphold the injunction and not rule in favor of the first party. Therefore, the decision would be FALSE.\n",
      "----------\n",
      "----------\n",
      " The Supreme Court would likely rule against The Little Sisters of the Poor Saints Peter and Paul Home in this case. The reasoning is based on the procedural and administrative law principles under the Administrative Procedure Act (APA). The Department of Health and Human Services (HHS) under the Trump administration promulgated new rules expanding the religious and moral exemptions to the contraceptive coverage requirement without following the required notice-and-comment rulemaking process. This procedural failure violates the APA, which mandates that agencies provide notice of proposed rulemaking and allow for public comment before finalizing rules. The district court and the Third Circuit both found that the states were likely to succeed on their APA claim, leading to a nationwide injunction against the enforcement of the rules. Given this procedural violation and the deference typically given to lower courts' findings on procedural grounds, the Supreme Court would likely uphold the injunction and rule against The Little Sisters of the Poor Saints Peter and Paul Home.\n",
      "----------\n",
      "----------\n",
      " The case involves the Little Sisters of the Poor Saints Peter and Paul Home seeking an exemption from the contraceptive coverage mandate under the Affordable Care Act (ACA) based on religious objections. The Department of Health and Human Services (HHS) under the Trump administration expanded the scope of exemptions to include not only religious objections but also moral objections, and did so without following the standard notice-and-comment rulemaking procedures required by the Administrative Procedure Act (APA). The Commonwealth of Pennsylvania and the State of New Jersey challenged these rules, arguing that they violated the APA, federal anti-discrimination law, and the Constitution. The district court and the Third Circuit both ruled in favor of the states, issuing a nationwide injunction against the enforcement of the rules. Given that the lower courts found the states likely to succeed on their APA claim due to the lack of proper rulemaking procedures, and considering the precedent set by previous cases like *Burwell v. Hobby Lobby Stores, Inc.* and *Zubik v. Burwell*, which emphasized the importance of following proper legal processes, I would rule in favor of the states. The Little Sisters of the Poor's claim for an exemption does not override the procedural requirements of the APA, and the states have a strong interest in ensuring that federal agencies adhere to the rulemaking process. Therefore, I would affirm the lower courts' decisions and rule against the Little Sisters of the Poor.\n",
      "----------\n",
      "----------\n",
      " The reasoning for this decision is based on the procedural and administrative law aspects of the case rather than the substantive religious freedom claims. The Little Sisters of the Poor Saints Peter and Paul Home sought an exemption from the contraceptive coverage mandate under the Affordable Care Act, citing religious objections. However, the Department of Health and Human Services under the Trump administration expanded the exemption without following the required notice-and-comment rulemaking procedures under the Administrative Procedure Act (APA). The Commonwealth of Pennsylvania and the State of New Jersey successfully challenged these rules in federal district court, which issued a nationwide injunction against their enforcement. The Third Circuit affirmed this decision, finding that the states were likely to succeed on their APA claim. As a Supreme Court Justice, I would uphold the lower courts' rulings because the agencies failed to comply with the procedural requirements of the APA, which are essential to ensuring transparency and public participation in the rulemaking process. Therefore, the expanded exemptions cannot stand, and the Little Sisters of the Poor Saints Peter and Paul Home would not prevail in this case.\n",
      "----------\n",
      "----------\n",
      " The reasoning for this decision is based on the procedural and administrative law aspects of the case, rather than the substantive religious freedom claims. The Department of Health and Human Services (HHS) under the Trump administration promulgated new regulations expanding the scope of the religious and moral exemptions to the contraceptive coverage requirement without following the notice-and-comment rulemaking procedures required by the Administrative Procedure Act (APA). The APA mandates that agencies provide notice of proposed rulemaking and allow for public comment before issuing final rules, unless an exception applies. The failure to adhere to these procedural requirements undermines the legitimacy of the rulemaking process and renders the regulations vulnerable to legal challenge.\n",
      "\n",
      "The district court found that Pennsylvania and New Jersey were likely to succeed on their APA claim, and the Third Circuit affirmed this decision. As a Supreme Court Justice, I would defer to the lower courts' findings that the rulemaking process was flawed and that the states have a strong likelihood of success on their APA claim. Therefore, I would rule against the Little Sisters of the Poor Saints Peter and Paul Home, not because of the merits of their religious freedom argument, but because the regulations they rely on were improperly promulgated. This ruling would uphold the importance of procedural integrity in administrative rulemaking, ensuring that agencies follow the law when creating regulations that have significant public impact.\n",
      "----------\n",
      "----------\n",
      " The Little Sisters of the Poor Saints Peter and Paul Home, as a nonprofit religious organization, has a sincere religious objection to providing contraceptive coverage under the Women’s Health Amendment to the Affordable Care Act. The Religious Freedom Restoration Act (RFRA) protects their right to exercise their religion without substantial burden, as established in *Burwell v. Hobby Lobby Stores, Inc.* and reinforced in *Wheaton College v. Burwell*. The 2017 regulations promulgated by the Department of Health and Human Services under the Trump administration expanded the religious exemption to align with these precedents, ensuring that entities like the Little Sisters are not compelled to violate their religious beliefs. The states’ challenge under the Administrative Procedure Act (APA) does not outweigh the protections afforded by RFRA, which prioritizes religious freedom. Therefore, the Court rules in favor of the Little Sisters of the Poor Saints Peter and Paul Home.\n",
      "----------\n",
      "----------\n",
      " The reasoning for this decision is based on the procedural and administrative aspects of the case rather than the substantive religious freedom claims. The case primarily revolves around the Administrative Procedure Act (APA) and whether the Department of Health and Human Services (HHS) followed the proper procedures in promulgating the new rules that expanded the religious and moral exemptions. The district court found that the states were likely to succeed on their APA claim, and the Third Circuit affirmed this decision. The Supreme Court, in this hypothetical ruling, would likely uphold the lower courts' decisions based on the procedural deficiencies in the rulemaking process, rather than ruling on the merits of the religious freedom claims. Therefore, the ruling would not be in favor of The Little Sisters of the Poor Saints Peter and Paul Home.\n",
      "----------\n",
      "----------\n",
      " The reasoning for this decision is based on the procedural posture of the case and the legal principles governing administrative rulemaking. The Department of Health and Human Services (HHS) under the Trump administration promulgated regulations expanding the scope of the religious and moral exemptions to the contraceptive coverage requirement without following the notice-and-comment procedures required by the Administrative Procedure Act (APA). The APA mandates that agencies provide notice of proposed rulemaking and allow for public comment before issuing final rules, unless an exception applies. Here, the agencies did not follow this process, and the states of Pennsylvania and New Jersey successfully challenged the rules on this basis. The district court issued a nationwide injunction, and the Third Circuit affirmed, finding that the states were likely to succeed on their APA claim. As a Supreme Court Justice, I would defer to the lower courts' findings that the rulemaking process was flawed and that the states have standing to challenge the rules. Therefore, I would not rule in favor of the Little Sisters of the Poor Saints Peter and Paul Home, as the procedural deficiencies in the rulemaking process render the regulations invalid under the APA.\n",
      "----------\n",
      "----------\n",
      " The reasoning for this decision is based on the procedural and administrative law issues at play, rather than the substantive religious freedom claims. The case hinges on whether the Department of Health and Human Services (HHS) followed the proper procedures under the Administrative Procedure Act (APA) when it promulgated the new rules expanding the exemptions for contraceptive coverage. The district court found that the states were likely to succeed on their claim that HHS violated the APA by failing to issue a notice of proposed rulemaking or solicit public comment before implementing the new rules. The Third Circuit affirmed this decision. As a Supreme Court Justice, I would defer to the lower courts' findings on procedural grounds, as the APA requires agencies to follow specific rulemaking procedures to ensure transparency and public participation. The failure to adhere to these procedures undermines the legitimacy of the rulemaking process, regardless of the substantive merits of the religious exemption. Therefore, I would rule against the Little Sisters of the Poor Saints Peter and Paul Home, not because of their religious claims, but because the rulemaking process was flawed.\n",
      "----------\n",
      "----------\n",
      " The case involves the Little Sisters of the Poor Saints Peter and Paul Home seeking an exemption from the contraceptive coverage mandate under the Affordable Care Act (ACA) based on religious objections. The Supreme Court has previously ruled in cases like *Burwell v. Hobby Lobby Stores, Inc.* and *Wheaton College v. Burwell* that entities with sincere religious objections are entitled to exemptions under the Religious Freedom Restoration Act (RFRA). However, the specific issue here is whether the Trump administration's 2017 regulations, which expanded the scope of exemptions without following proper notice-and-comment procedures under the Administrative Procedure Act (APA), are valid. The lower courts found that the states of Pennsylvania and New Jersey were likely to succeed on their APA claim, as the rulemaking process was procedurally flawed. As a Supreme Court Justice, I would defer to the procedural requirements of the APA, which ensure transparency and public participation in rulemaking. Since the regulations were promulgated without following these procedures, I would rule against the Little Sisters of the Poor Saints Peter and Paul Home, upholding the injunction and affirming the lower courts' decisions.\n",
      "----------\n",
      "----------\n",
      " The reasoning for this decision is based on the procedural and administrative law issues at play in this case, rather than the substantive religious freedom claims. The Department of Health and Human Services (HHS) under the Trump administration promulgated new regulations expanding the scope of the religious exemption and adding a \"moral\" exemption without following the required notice-and-comment procedures under the Administrative Procedure Act (APA). The APA requires agencies to provide notice of proposed rulemaking and an opportunity for public comment before issuing final rules, unless an exception applies. Here, the agencies did not follow this process, and the states of Pennsylvania and New Jersey successfully challenged the rules on this basis. The district court and the Third Circuit both found that the states were likely to succeed on their APA claim, leading to a nationwide injunction against the rules. As a Supreme Court Justice, I would uphold the lower courts' rulings, as the failure to comply with the APA's procedural requirements is a clear violation of administrative law. The substantive religious freedom claims, while important, are secondary to the procedural deficiencies in this case. Therefore, I would rule in favor of the Commonwealth of Pennsylvania and the State of New Jersey, not the Little Sisters of the Poor Saints Peter and Paul Home.\n",
      "----------\n",
      "----------\n",
      " The reasoning for this decision is based on the procedural and legal context of the case as of 2019. The Little Sisters of the Poor Saints Peter and Paul Home sought an exemption from the contraceptive coverage requirement under the ACA, citing religious objections. However, the case was primarily about the procedural validity of the Trump administration's expansion of exemptions under the ACA, which was challenged by the Commonwealth of Pennsylvania and the State of New Jersey. The lower courts had ruled in favor of the states, finding that the expansion of exemptions likely violated the Administrative Procedure Act due to the lack of proper notice and comment procedures. As a Supreme Court Justice, I would consider the procedural irregularities and the potential for harm to the states' interests in ensuring access to contraceptive coverage for their residents. Therefore, I would rule against the Little Sisters of the Poor Saints Peter and Paul Home, upholding the lower courts' decisions that the expanded exemptions were not properly promulgated under the APA.\n",
      "----------\n",
      "----------\n",
      " The Little Sisters of the Poor Saints Peter and Paul Home, as a nonprofit religious organization, has consistently sought exemptions from the contraceptive coverage mandate under the Affordable Care Act (ACA) based on sincere religious objections. The Supreme Court's precedents in *Burwell v. Hobby Lobby Stores, Inc.* (2014) and *Wheaton College v. Burwell* (2014) established that entities with religious objections are entitled to exemptions under the Religious Freedom Restoration Act (RFRA). The 2017 regulations promulgated by the Department of Health and Human Services (HHS) under the Trump administration expanded these exemptions to include both religious and moral objections, which aligns with the Little Sisters' claims. While the states of Pennsylvania and New Jersey challenged the regulations under the Administrative Procedure Act (APA), the core issue remains the protection of religious freedom under RFRA. Given the Court's prior rulings and the clear religious objections of the Little Sisters, I would rule in their favor, upholding their exemption from the contraceptive coverage mandate.\n",
      "----------\n",
      "----------\n",
      " The reasoning for this decision is based on the procedural posture of the case and the legal principles governing administrative rulemaking. The Department of Health and Human Services (HHS) under the Trump administration promulgated new regulations expanding exemptions to the contraceptive coverage requirement without following the notice-and-comment procedures required by the Administrative Procedure Act (APA). The APA mandates that agencies provide notice of proposed rulemaking and allow for public comment before issuing final rules, unless an exception applies. Here, the agencies did not provide a sufficient justification for bypassing these procedures. The district court and the Third Circuit both found that the states were likely to succeed on their APA claim, and the nationwide injunction was upheld. As a Supreme Court Justice, I would defer to the lower courts' findings that the rulemaking process was flawed and that the states have a strong likelihood of success on their APA claim. Therefore, I would not rule in favor of The Little Sisters of the Poor Saints Peter and Paul Home, as the procedural deficiencies in the rulemaking process undermine the validity of the regulations they seek to rely on.\n",
      "----------\n",
      "----------\n",
      " The Little Sisters of the Poor Saints Peter and Paul Home sought an exemption from the contraceptive coverage mandate under the Affordable Care Act (ACA) based on religious objections. However, the case revolves around the legality of the Trump administration's 2017 regulations, which expanded exemptions for religious and moral objections without following proper administrative procedures, such as notice-and-comment rulemaking under the Administrative Procedure Act (APA). The district court and the Third Circuit found that the states of Pennsylvania and New Jersey were likely to succeed on their claim that the rules violated the APA. As a Supreme Court Justice, I would defer to the lower courts' findings that the rulemaking process was flawed and that the states have a strong case under the APA. Therefore, I would not rule in favor of the Little Sisters of the Poor Saints Peter and Paul Home in this procedural challenge. The merits of their religious objections are not dispositive here, as the issue centers on the legality of the rulemaking process.\n",
      "----------\n",
      "----------\n",
      " The case involves the Little Sisters of the Poor Saints Peter and Paul Home seeking an exemption from the contraceptive coverage requirement under the Affordable Care Act (ACA) based on religious objections. The Trump administration expanded the exemption rules in 2017, but Pennsylvania and New Jersey successfully challenged these rules in federal court, arguing that they violated the Administrative Procedure Act (APA) and other laws. The district court issued a nationwide injunction, and the Third Circuit affirmed. Given the procedural posture and the lower courts' rulings, the Supreme Court would likely uphold the injunction, as the expanded rules were promulgated without proper notice and comment, violating the APA. Therefore, the ruling would not favor the Little Sisters of the Poor Saints Peter and Paul Home.\n",
      "----------\n",
      "----------\n",
      " The ruling in this case would not favor the Little Sisters of the Poor Saints Peter and Paul Home. The case revolves around the expansion of exemptions to the contraceptive coverage requirement under the Affordable Care Act (ACA), which was challenged by the Commonwealth of Pennsylvania and the State of New Jersey. The courts found that the new rules, which expanded the scope of the religious exemption and added a moral exemption, were likely in violation of the Administrative Procedure Act (APA) due to the lack of proper notice and comment procedures. Given that the lower courts had already issued a nationwide injunction against the enforcement of these rules and the appellate court affirmed this decision, it is reasonable to conclude that the Supreme Court would also find the rules to be improperly promulgated under the APA. Therefore, the decision would not favor the Little Sisters of the Poor Saints Peter and Paul Home.\n",
      "----------\n",
      "----------\n",
      " The reasoning for this decision is based on the procedural posture and the legal principles at play in this case. The Supreme Court has previously ruled in cases like *Burwell v. Hobby Lobby Stores, Inc.* and *Zubik v. Burwell* that entities with sincere religious objections to providing contraceptive coverage are entitled to exemptions under the Religious Freedom Restoration Act (RFRA). However, in this case, the challenge brought by Pennsylvania and New Jersey focuses on the procedural validity of the 2017 regulations promulgated by the Department of Health and Human Services (HHS) under the Trump administration. The district court and the Third Circuit found that the states were likely to succeed on their claim that the rules violated the Administrative Procedure Act (APA) because they were issued without proper notice-and-comment procedures. The Supreme Court, in reviewing such procedural challenges, typically defers to lower courts' findings on APA violations unless there is a clear error. Given the procedural nature of the challenge and the lack of a clear error in the lower courts' rulings, the Court would likely uphold the injunction against the rules, thus ruling against the Little Sisters of the Poor Saints Peter and Paul Home.\n",
      "----------\n",
      "----------\n",
      " The Supreme Court has historically shown deference to religious organizations under the Religious Freedom Restoration Act (RFRA), as evidenced by cases like *Burwell v. Hobby Lobby Stores, Inc.* and *Wheaton College v. Burwell*. However, in this case, the challenge brought by Pennsylvania and New Jersey focuses on the procedural validity of the Trump administration's expanded exemptions under the Administrative Procedure Act (APA). The district court and the Third Circuit found that the states were likely to succeed on their APA claim, as the rules were promulgated without proper notice-and-comment procedures, which are required under the APA. Given the procedural irregularities and the lack of adherence to the APA's requirements, the Court would likely uphold the lower courts' rulings and not rule in favor of the Little Sisters of the Poor Saints Peter and Paul Home. The procedural deficiencies in the rulemaking process, rather than the merits of the religious exemption itself, are the central issue here.\n",
      "----------\n",
      "----------\n",
      " The reasoning for this decision is based on the procedural and administrative law aspects of the case, rather than the substantive religious freedom claims. The Department of Health and Human Services (HHS) under the Trump administration promulgated new regulations expanding the scope of the religious and moral exemptions to the contraceptive coverage requirement without following the notice-and-comment rulemaking procedures required by the Administrative Procedure Act (APA). The Commonwealth of Pennsylvania and the State of New Jersey successfully challenged these rules in federal district court, which issued a nationwide injunction enjoining the rules' enforcement, a decision affirmed by the U.S. Court of Appeals for the Third Circuit. The Supreme Court's decision would likely uphold the lower courts' rulings based on the procedural violation of the APA, rather than the merits of the religious freedom claims. Therefore, the ruling would not be in favor of The Little Sisters of the Poor Saints Peter and Paul Home.\n",
      "----------\n",
      "----------\n"
     ]
    }
   ],
   "source": [
    "for i in all_results.loc[3264, \"deepseek_consistency_reasonings\"]:\n",
    "    print(i)\n",
    "    print (\"----------\")\n",
    "    print (\"----------\")"
   ]
  },
  {
   "cell_type": "code",
   "execution_count": 206,
   "metadata": {},
   "outputs": [
    {
     "data": {
      "text/plain": [
       "np.float64(98.5)"
      ]
     },
     "execution_count": 206,
     "metadata": {},
     "output_type": "execute_result"
    }
   ],
   "source": [
    "all_results[\"deepseek_consistency_scores\"].mean()"
   ]
  }
 ],
 "metadata": {
  "kernelspec": {
   "display_name": ".venv",
   "language": "python",
   "name": "python3"
  },
  "language_info": {
   "codemirror_mode": {
    "name": "ipython",
    "version": 3
   },
   "file_extension": ".py",
   "mimetype": "text/x-python",
   "name": "python",
   "nbconvert_exporter": "python",
   "pygments_lexer": "ipython3",
   "version": "3.12.6"
  }
 },
 "nbformat": 4,
 "nbformat_minor": 2
}
