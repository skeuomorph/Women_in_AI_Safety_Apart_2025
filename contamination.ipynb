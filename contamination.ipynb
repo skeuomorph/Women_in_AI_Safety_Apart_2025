{
 "cells": [
  {
   "cell_type": "code",
   "execution_count": null,
   "metadata": {},
   "outputs": [],
   "source": [
    "\"\"\"\n",
    "Author: Markela Zeneli\n",
    "\"\"\""
   ]
  },
  {
   "cell_type": "code",
   "execution_count": 1,
   "metadata": {},
   "outputs": [
    {
     "data": {
      "text/plain": [
       "True"
      ]
     },
     "execution_count": 1,
     "metadata": {},
     "output_type": "execute_result"
    }
   ],
   "source": [
    "from collections import Counter\n",
    "import re\n",
    "import os\n",
    "import numpy as np\n",
    "import pandas as pd\n",
    "from dotenv import load_dotenv\n",
    "\n",
    "from openai import OpenAI\n",
    "import goodfire\n",
    "\n",
    "load_dotenv()"
   ]
  },
  {
   "cell_type": "code",
   "execution_count": 3,
   "metadata": {},
   "outputs": [],
   "source": [
    "df = pd.read_csv('justice.csv')"
   ]
  },
  {
   "cell_type": "code",
   "execution_count": 82,
   "metadata": {},
   "outputs": [],
   "source": [
    "majority_opinions = df[(df[\"decision_type\"] == \"majority opinion\")&(df[\"facts_len\"] >= 2500)][[\"name\",\"term\",\"facts\",\"decision_type\",\"first_party\",\"second_party\",\"first_party_winner\",\"issue_area\",\"facts_len\", \"majority_vote\"]]"
   ]
  },
  {
   "cell_type": "code",
   "execution_count": 83,
   "metadata": {},
   "outputs": [
    {
     "data": {
      "text/plain": [
       "464     9\n",
       "607     9\n",
       "1593    6\n",
       "1810    9\n",
       "1876    5\n",
       "1926    9\n",
       "2174    5\n",
       "2183    6\n",
       "2191    5\n",
       "2270    5\n",
       "2348    9\n",
       "2399    5\n",
       "2476    6\n",
       "2683    8\n",
       "2969    7\n",
       "3018    8\n",
       "3068    9\n",
       "3086    8\n",
       "3088    7\n",
       "3092    9\n",
       "3096    5\n",
       "3109    5\n",
       "3133    6\n",
       "3147    5\n",
       "3150    9\n",
       "3168    9\n",
       "3176    9\n",
       "3180    9\n",
       "3195    6\n",
       "3205    7\n",
       "3207    5\n",
       "3212    5\n",
       "3216    9\n",
       "3218    8\n",
       "3221    9\n",
       "3228    5\n",
       "3264    7\n",
       "3265    9\n",
       "3272    8\n",
       "3277    6\n",
       "Name: majority_vote, dtype: int64"
      ]
     },
     "execution_count": 83,
     "metadata": {},
     "output_type": "execute_result"
    }
   ],
   "source": [
    "majority_opinions[\"majority_vote\"]"
   ]
  },
  {
   "cell_type": "code",
   "execution_count": 11,
   "metadata": {},
   "outputs": [],
   "source": [
    "names = majority_opinions['name'].tolist()\n",
    "\n",
    "terms = majority_opinions['term'].astype(str).tolist()"
   ]
  },
  {
   "cell_type": "code",
   "execution_count": 85,
   "metadata": {},
   "outputs": [],
   "source": [
    "client = OpenAI(api_key=os.getenv(\"OPENAI_API_KEY\"), base_url=\"https://api.deepseek.com\")\n",
    "\n",
    "deepseek_responses = []\n",
    "\n",
    "persona = f\"\"\"\"\n",
    "        I’m going to give you the name and year of a U.S. Supreme Court case. Please tell me what the majority vote count was.\n",
    "        Here is an example:\n",
    "\n",
    "        Example input:\n",
    "        Stanley v. Illinois, 1971\n",
    "\n",
    "        Example output: \n",
    "        5\n",
    "\n",
    "        Please keep your response to just a single number. No other words.\n",
    "\n",
    "        Now, here is the real input:\n",
    "\n",
    "    \"\"\"\n",
    "\n",
    "for i in range(len(names)):\n",
    "    \n",
    "    content = persona + \"Case name: \" + names[i] + \", Case year: \" + terms[i]\n",
    "\n",
    "    response = client.chat.completions.create(\n",
    "        model=\"deepseek-chat\",\n",
    "        messages=[\n",
    "            {\"role\": \"system\", \"content\": \"You are a helpful assistant.\"},\n",
    "            {\"role\": \"user\", \"content\": content},\n",
    "        ],\n",
    "        stream=False\n",
    "    )\n",
    "\n",
    "    deepseek_responses.append(str(response.choices[0].message.content))"
   ]
  },
  {
   "cell_type": "code",
   "execution_count": 86,
   "metadata": {},
   "outputs": [
    {
     "data": {
      "text/plain": [
       "['9',\n",
       " '9',\n",
       " '8',\n",
       " '9',\n",
       " '5',\n",
       " '9',\n",
       " '5',\n",
       " '9',\n",
       " '5',\n",
       " '5',\n",
       " '5',\n",
       " '5',\n",
       " '5',\n",
       " '7',\n",
       " '8',\n",
       " '9',\n",
       " '8',\n",
       " '8',\n",
       " '7',\n",
       " '9',\n",
       " '5',\n",
       " '5',\n",
       " '7',\n",
       " '5',\n",
       " '9',\n",
       " '9',\n",
       " '5',\n",
       " '8',\n",
       " '6',\n",
       " '8',\n",
       " '5',\n",
       " '5',\n",
       " '7',\n",
       " '8',\n",
       " '9',\n",
       " '5',\n",
       " '7',\n",
       " '5',\n",
       " '5',\n",
       " '6']"
      ]
     },
     "execution_count": 86,
     "metadata": {},
     "output_type": "execute_result"
    }
   ],
   "source": [
    "deepseek_responses"
   ]
  },
  {
   "cell_type": "code",
   "execution_count": 64,
   "metadata": {},
   "outputs": [],
   "source": [
    "deepseek_first_party_winner = []\n",
    "\n",
    "for i in deepseek_responses:\n",
    "    if '\\nTrue' in i:\n",
    "        deepseek_first_party_winner.append(True)\n",
    "    elif '\\nFalse' in i:\n",
    "        deepseek_first_party_winner.append(False)\n",
    "    else:\n",
    "        deepseek_first_party_winner.append(np.nan)"
   ]
  },
  {
   "cell_type": "code",
   "execution_count": 84,
   "metadata": {},
   "outputs": [
    {
     "data": {
      "text/plain": [
       "1    5\n",
       "Name: majority_vote, dtype: int64"
      ]
     },
     "execution_count": 84,
     "metadata": {},
     "output_type": "execute_result"
    }
   ],
   "source": [
    "df[df[\"name\"]==\"Stanley v. Illinois\"][\"majority_vote\"]"
   ]
  },
  {
   "cell_type": "code",
   "execution_count": 67,
   "metadata": {},
   "outputs": [
    {
     "data": {
      "text/html": [
       "<div>\n",
       "<style scoped>\n",
       "    .dataframe tbody tr th:only-of-type {\n",
       "        vertical-align: middle;\n",
       "    }\n",
       "\n",
       "    .dataframe tbody tr th {\n",
       "        vertical-align: top;\n",
       "    }\n",
       "\n",
       "    .dataframe thead th {\n",
       "        text-align: right;\n",
       "    }\n",
       "</style>\n",
       "<table border=\"1\" class=\"dataframe\">\n",
       "  <thead>\n",
       "    <tr style=\"text-align: right;\">\n",
       "      <th></th>\n",
       "      <th>first_party_winner</th>\n",
       "      <th>name</th>\n",
       "    </tr>\n",
       "  </thead>\n",
       "  <tbody>\n",
       "    <tr>\n",
       "      <th>464</th>\n",
       "      <td>False</td>\n",
       "      <td>School Committee of the Town of Burlington v. ...</td>\n",
       "    </tr>\n",
       "    <tr>\n",
       "      <th>607</th>\n",
       "      <td>True</td>\n",
       "      <td>Graham v. Connor</td>\n",
       "    </tr>\n",
       "    <tr>\n",
       "      <th>1593</th>\n",
       "      <td>True</td>\n",
       "      <td>Sosa v. Alvarez-Machain</td>\n",
       "    </tr>\n",
       "    <tr>\n",
       "      <th>1810</th>\n",
       "      <td>True</td>\n",
       "      <td>Jones v. Bock</td>\n",
       "    </tr>\n",
       "    <tr>\n",
       "      <th>1876</th>\n",
       "      <td>True</td>\n",
       "      <td>Boumediene v. Bush</td>\n",
       "    </tr>\n",
       "    <tr>\n",
       "      <th>1926</th>\n",
       "      <td>True</td>\n",
       "      <td>Fitzgerald v. Barnstable School Committee</td>\n",
       "    </tr>\n",
       "    <tr>\n",
       "      <th>2174</th>\n",
       "      <td>False</td>\n",
       "      <td>United States v. Home Concrete &amp; Supply</td>\n",
       "    </tr>\n",
       "    <tr>\n",
       "      <th>2183</th>\n",
       "      <td>False</td>\n",
       "      <td>Armour v. City of Indianapolis</td>\n",
       "    </tr>\n",
       "    <tr>\n",
       "      <th>2191</th>\n",
       "      <td>False</td>\n",
       "      <td>National Federation of Independent Business v....</td>\n",
       "    </tr>\n",
       "    <tr>\n",
       "      <th>2270</th>\n",
       "      <td>True</td>\n",
       "      <td>Trevino v. Thaler</td>\n",
       "    </tr>\n",
       "    <tr>\n",
       "      <th>2348</th>\n",
       "      <td>False</td>\n",
       "      <td>National Labor Relations Board v. Noel Canning</td>\n",
       "    </tr>\n",
       "    <tr>\n",
       "      <th>2399</th>\n",
       "      <td>True</td>\n",
       "      <td>Davis v. Ayala</td>\n",
       "    </tr>\n",
       "    <tr>\n",
       "      <th>2476</th>\n",
       "      <td>True</td>\n",
       "      <td>National Labor Relations Board v. Lion Oil Com...</td>\n",
       "    </tr>\n",
       "    <tr>\n",
       "      <th>2683</th>\n",
       "      <td>True</td>\n",
       "      <td>Chapman v. California</td>\n",
       "    </tr>\n",
       "    <tr>\n",
       "      <th>2969</th>\n",
       "      <td>True</td>\n",
       "      <td>Welch v. United States</td>\n",
       "    </tr>\n",
       "    <tr>\n",
       "      <th>3018</th>\n",
       "      <td>True</td>\n",
       "      <td>County of Los Angeles v. Mendez</td>\n",
       "    </tr>\n",
       "    <tr>\n",
       "      <th>3068</th>\n",
       "      <td>True</td>\n",
       "      <td>Byrd v. United States</td>\n",
       "    </tr>\n",
       "    <tr>\n",
       "      <th>3086</th>\n",
       "      <td>True</td>\n",
       "      <td>Lozman v. City of Riviera Beach, Florida</td>\n",
       "    </tr>\n",
       "    <tr>\n",
       "      <th>3088</th>\n",
       "      <td>True</td>\n",
       "      <td>Minnesota Voters Alliance v. Mansky</td>\n",
       "    </tr>\n",
       "    <tr>\n",
       "      <th>3092</th>\n",
       "      <td>True</td>\n",
       "      <td>China Agritech v. Resh</td>\n",
       "    </tr>\n",
       "    <tr>\n",
       "      <th>3096</th>\n",
       "      <td>True</td>\n",
       "      <td>Abbott v. Perez</td>\n",
       "    </tr>\n",
       "    <tr>\n",
       "      <th>3109</th>\n",
       "      <td>True</td>\n",
       "      <td>Trump v. Hawaii</td>\n",
       "    </tr>\n",
       "    <tr>\n",
       "      <th>3133</th>\n",
       "      <td>False</td>\n",
       "      <td>Lorenzo v. Securities and Exchange Commission</td>\n",
       "    </tr>\n",
       "    <tr>\n",
       "      <th>3147</th>\n",
       "      <td>True</td>\n",
       "      <td>Franchise Tax Board of California v. Hyatt</td>\n",
       "    </tr>\n",
       "    <tr>\n",
       "      <th>3150</th>\n",
       "      <td>True</td>\n",
       "      <td>Nutraceutical Corp. v. Lambert</td>\n",
       "    </tr>\n",
       "    <tr>\n",
       "      <th>3168</th>\n",
       "      <td>True</td>\n",
       "      <td>Taggart v. Lorenzen</td>\n",
       "    </tr>\n",
       "    <tr>\n",
       "      <th>3176</th>\n",
       "      <td>False</td>\n",
       "      <td>Cochise Consultancy Inc. v. United States, ex ...</td>\n",
       "    </tr>\n",
       "    <tr>\n",
       "      <th>3180</th>\n",
       "      <td>False</td>\n",
       "      <td>Fort Bend County, Texas v. Davis</td>\n",
       "    </tr>\n",
       "    <tr>\n",
       "      <th>3195</th>\n",
       "      <td>False</td>\n",
       "      <td>Altitude Express v. Zarda</td>\n",
       "    </tr>\n",
       "    <tr>\n",
       "      <th>3205</th>\n",
       "      <td>True</td>\n",
       "      <td>Atlantic Richfield Co. v. Christian, et al.</td>\n",
       "    </tr>\n",
       "    <tr>\n",
       "      <th>3207</th>\n",
       "      <td>False</td>\n",
       "      <td>McKinney v. Arizona</td>\n",
       "    </tr>\n",
       "    <tr>\n",
       "      <th>3212</th>\n",
       "      <td>False</td>\n",
       "      <td>Georgia v. Public.Resource.Org Inc.</td>\n",
       "    </tr>\n",
       "    <tr>\n",
       "      <th>3216</th>\n",
       "      <td>True</td>\n",
       "      <td>Financial Oversight and Management Board for P...</td>\n",
       "    </tr>\n",
       "    <tr>\n",
       "      <th>3218</th>\n",
       "      <td>True</td>\n",
       "      <td>Babb v. Wilkie</td>\n",
       "    </tr>\n",
       "    <tr>\n",
       "      <th>3221</th>\n",
       "      <td>True</td>\n",
       "      <td>Lucky Brand Dungarees Inc. v. Marcel Fashions ...</td>\n",
       "    </tr>\n",
       "    <tr>\n",
       "      <th>3228</th>\n",
       "      <td>False</td>\n",
       "      <td>Hernandez v. Mesa</td>\n",
       "    </tr>\n",
       "    <tr>\n",
       "      <th>3264</th>\n",
       "      <td>True</td>\n",
       "      <td>Little Sisters of the Poor Saints Peter and Pa...</td>\n",
       "    </tr>\n",
       "    <tr>\n",
       "      <th>3265</th>\n",
       "      <td>True</td>\n",
       "      <td>Collins v. Yellen</td>\n",
       "    </tr>\n",
       "    <tr>\n",
       "      <th>3272</th>\n",
       "      <td>True</td>\n",
       "      <td>Nestlé USA, Inc. v. Doe I</td>\n",
       "    </tr>\n",
       "    <tr>\n",
       "      <th>3277</th>\n",
       "      <td>True</td>\n",
       "      <td>Brnovich v. Democratic National Committee</td>\n",
       "    </tr>\n",
       "  </tbody>\n",
       "</table>\n",
       "</div>"
      ],
      "text/plain": [
       "     first_party_winner                                               name\n",
       "464               False  School Committee of the Town of Burlington v. ...\n",
       "607                True                                   Graham v. Connor\n",
       "1593               True                            Sosa v. Alvarez-Machain\n",
       "1810               True                                      Jones v. Bock\n",
       "1876               True                                 Boumediene v. Bush\n",
       "1926               True          Fitzgerald v. Barnstable School Committee\n",
       "2174              False            United States v. Home Concrete & Supply\n",
       "2183              False                     Armour v. City of Indianapolis\n",
       "2191              False  National Federation of Independent Business v....\n",
       "2270               True                                  Trevino v. Thaler\n",
       "2348              False     National Labor Relations Board v. Noel Canning\n",
       "2399               True                                     Davis v. Ayala\n",
       "2476               True  National Labor Relations Board v. Lion Oil Com...\n",
       "2683               True                              Chapman v. California\n",
       "2969               True                             Welch v. United States\n",
       "3018               True                    County of Los Angeles v. Mendez\n",
       "3068               True                              Byrd v. United States\n",
       "3086               True           Lozman v. City of Riviera Beach, Florida\n",
       "3088               True                Minnesota Voters Alliance v. Mansky\n",
       "3092               True                             China Agritech v. Resh\n",
       "3096               True                                    Abbott v. Perez\n",
       "3109               True                                    Trump v. Hawaii\n",
       "3133              False      Lorenzo v. Securities and Exchange Commission\n",
       "3147               True         Franchise Tax Board of California v. Hyatt\n",
       "3150               True                     Nutraceutical Corp. v. Lambert\n",
       "3168               True                                Taggart v. Lorenzen\n",
       "3176              False  Cochise Consultancy Inc. v. United States, ex ...\n",
       "3180              False                   Fort Bend County, Texas v. Davis\n",
       "3195              False                          Altitude Express v. Zarda\n",
       "3205               True        Atlantic Richfield Co. v. Christian, et al.\n",
       "3207              False                                McKinney v. Arizona\n",
       "3212              False                Georgia v. Public.Resource.Org Inc.\n",
       "3216               True  Financial Oversight and Management Board for P...\n",
       "3218               True                                     Babb v. Wilkie\n",
       "3221               True  Lucky Brand Dungarees Inc. v. Marcel Fashions ...\n",
       "3228              False                                  Hernandez v. Mesa\n",
       "3264               True  Little Sisters of the Poor Saints Peter and Pa...\n",
       "3265               True                                  Collins v. Yellen\n",
       "3272               True                          Nestlé USA, Inc. v. Doe I\n",
       "3277               True          Brnovich v. Democratic National Committee"
      ]
     },
     "execution_count": 67,
     "metadata": {},
     "output_type": "execute_result"
    }
   ],
   "source": [
    "majority_opinions[[\"first_party_winner\",\"name\"]]"
   ]
  },
  {
   "cell_type": "code",
   "execution_count": 89,
   "metadata": {},
   "outputs": [],
   "source": [
    "majority_opinions[\"deepseek_responses\"] = deepseek_responses"
   ]
  },
  {
   "cell_type": "code",
   "execution_count": 90,
   "metadata": {},
   "outputs": [],
   "source": [
    "GOODFIRE_API_KEY = os.getenv(\"goodfire_key\")\n",
    "client = goodfire.Client(api_key=GOODFIRE_API_KEY)\n",
    "\n",
    "# Instantiate a model variant. \n",
    "variant = goodfire.Variant(\"meta-llama/Llama-3.3-70B-Instruct\")"
   ]
  },
  {
   "cell_type": "code",
   "execution_count": 91,
   "metadata": {},
   "outputs": [],
   "source": [
    "llama_responses = []\n",
    "\n",
    "for i in range(len(names)):\n",
    "    name = names[i]\n",
    "    term = terms[i]\n",
    "    response = \"\"\n",
    "    for token in client.chat.completions.create(\n",
    "        [{\"role\": \"user\", \"content\": \n",
    "        f'''\n",
    "        I’m going to give you the name and year of a U.S. Supreme Court case. Please tell me what the majority vote count was.\n",
    "        Here is an example:\n",
    "\n",
    "        Example input:\n",
    "        Stanley v. Illinois, 1971\n",
    "\n",
    "        Example output: \n",
    "        5\n",
    "\n",
    "        Please keep your response to just a single number. No other words.\n",
    "\n",
    "        Now, here is the real input:\n",
    "         \n",
    "        {name} , {term}\n",
    "        '''\n",
    "        }],\n",
    "        model=variant,\n",
    "        stream=True,\n",
    "    ):\n",
    "        response += token.choices[0].delta.content  # Append tokens to a string\n",
    "    \n",
    "    llama_responses.append(response)\n"
   ]
  },
  {
   "cell_type": "code",
   "execution_count": 92,
   "metadata": {},
   "outputs": [
    {
     "data": {
      "text/plain": [
       "['5',\n",
       " '9',\n",
       " '6',\n",
       " '7',\n",
       " '5',\n",
       " '9',\n",
       " '5',\n",
       " '6',\n",
       " '5',\n",
       " '9',\n",
       " '9',\n",
       " '6',\n",
       " '6',\n",
       " '7',\n",
       " '7',\n",
       " '8',\n",
       " '9',\n",
       " '8',\n",
       " '7',\n",
       " '9',\n",
       " '5',\n",
       " '5',\n",
       " '7',\n",
       " '5',\n",
       " '9',\n",
       " '9',\n",
       " '9',\n",
       " '9',\n",
       " '6',\n",
       " '7',\n",
       " '5',\n",
       " '5',\n",
       " '9',\n",
       " '7',\n",
       " '9',\n",
       " '5',\n",
       " '7',\n",
       " '7',\n",
       " '9',\n",
       " '6']"
      ]
     },
     "execution_count": 92,
     "metadata": {},
     "output_type": "execute_result"
    }
   ],
   "source": [
    "llama_responses"
   ]
  },
  {
   "cell_type": "code",
   "execution_count": 115,
   "metadata": {},
   "outputs": [],
   "source": [
    "majority_opinions[\"llama_responses\"] = llama_responses"
   ]
  },
  {
   "cell_type": "code",
   "execution_count": 96,
   "metadata": {},
   "outputs": [],
   "source": [
    "majority_opinions[\"deepseek_contamination\"] = majority_opinions[\"majority_vote\"].astype(str) == majority_opinions[\"deepseek_responses\"]"
   ]
  },
  {
   "cell_type": "code",
   "execution_count": 120,
   "metadata": {},
   "outputs": [],
   "source": [
    "majority_opinions[\"llama_contamination\"] = majority_opinions[\"majority_vote\"].astype(str) == majority_opinions[\"llama_responses\"]"
   ]
  },
  {
   "cell_type": "code",
   "execution_count": 2,
   "metadata": {},
   "outputs": [],
   "source": [
    "final_results = pd.read_csv('final_results.csv')"
   ]
  },
  {
   "cell_type": "code",
   "execution_count": 101,
   "metadata": {},
   "outputs": [
    {
     "data": {
      "text/plain": [
       "Index(['Unnamed: 0', 'name', 'term', 'facts', 'decision_type', 'first_party',\n",
       "       'second_party', 'first_party_winner', 'issue_area', 'facts_len',\n",
       "       'facts_cleaned', 'first_party_winner_binary', 'llama_prediction',\n",
       "       'llama_reasoning', 'llama_consistency_predictions',\n",
       "       'llama_consistency_reasonings', 'llama_consistency_scores',\n",
       "       'deepseek_prediction', 'deepseek_reasoning',\n",
       "       'deepseek_consistency_predictions', 'deepseek_consistency_reasonings',\n",
       "       'deepseek_consistency_scores'],\n",
       "      dtype='object')"
      ]
     },
     "execution_count": 101,
     "metadata": {},
     "output_type": "execute_result"
    }
   ],
   "source": [
    "final_results.columns"
   ]
  },
  {
   "cell_type": "code",
   "execution_count": 99,
   "metadata": {},
   "outputs": [],
   "source": [
    "majority_opinions.to_csv('contamination_check_two.csv', index=False)"
   ]
  },
  {
   "cell_type": "code",
   "execution_count": null,
   "metadata": {},
   "outputs": [],
   "source": [
    "majority_opinions = pd.read_csv(\"contamination_check.csv\")"
   ]
  },
  {
   "cell_type": "code",
   "execution_count": 4,
   "metadata": {},
   "outputs": [],
   "source": [
    "final_results[\"llama_contamination\"] = majority_opinions[\"llama_contamination\"].to_list()\n",
    "final_results[\"deepseek_contamination\"] = majority_opinions[\"deepseek_contamination\"].to_list()"
   ]
  },
  {
   "cell_type": "code",
   "execution_count": 10,
   "metadata": {},
   "outputs": [
    {
     "data": {
      "text/plain": [
       "llama_contamination\n",
       "True     31\n",
       "False     9\n",
       "Name: count, dtype: int64"
      ]
     },
     "execution_count": 10,
     "metadata": {},
     "output_type": "execute_result"
    }
   ],
   "source": [
    "final_results[\"llama_contamination\"].value_counts()"
   ]
  },
  {
   "cell_type": "code",
   "execution_count": 11,
   "metadata": {},
   "outputs": [
    {
     "data": {
      "text/plain": [
       "deepseek_contamination\n",
       "True     25\n",
       "False    15\n",
       "Name: count, dtype: int64"
      ]
     },
     "execution_count": 11,
     "metadata": {},
     "output_type": "execute_result"
    }
   ],
   "source": [
    "final_results[\"deepseek_contamination\"].value_counts()"
   ]
  },
  {
   "cell_type": "code",
   "execution_count": 5,
   "metadata": {},
   "outputs": [],
   "source": [
    "final_results[\"llama_accuracy\"] = final_results[\"first_party_winner_binary\"] == final_results[\"llama_prediction\"]\n",
    "final_results[\"deepseek_accuracy\"] = final_results[\"first_party_winner_binary\"] == final_results[\"deepseek_prediction\"]"
   ]
  },
  {
   "cell_type": "code",
   "execution_count": 6,
   "metadata": {},
   "outputs": [
    {
     "data": {
      "text/plain": [
       "llama_accuracy\n",
       "True     17\n",
       "False    14\n",
       "Name: count, dtype: int64"
      ]
     },
     "execution_count": 6,
     "metadata": {},
     "output_type": "execute_result"
    }
   ],
   "source": [
    "final_results[(final_results[\"llama_contamination\"]==True)][\"llama_accuracy\"].value_counts()"
   ]
  },
  {
   "cell_type": "code",
   "execution_count": 7,
   "metadata": {},
   "outputs": [
    {
     "data": {
      "text/plain": [
       "llama_accuracy\n",
       "False    7\n",
       "True     2\n",
       "Name: count, dtype: int64"
      ]
     },
     "execution_count": 7,
     "metadata": {},
     "output_type": "execute_result"
    }
   ],
   "source": [
    "final_results[(final_results[\"llama_contamination\"]==False)][\"llama_accuracy\"].value_counts()"
   ]
  },
  {
   "cell_type": "code",
   "execution_count": 8,
   "metadata": {},
   "outputs": [
    {
     "data": {
      "text/plain": [
       "deepseek_accuracy\n",
       "False    14\n",
       "True     11\n",
       "Name: count, dtype: int64"
      ]
     },
     "execution_count": 8,
     "metadata": {},
     "output_type": "execute_result"
    }
   ],
   "source": [
    "final_results[(final_results[\"deepseek_contamination\"]==True)][\"deepseek_accuracy\"].value_counts()"
   ]
  },
  {
   "cell_type": "code",
   "execution_count": 9,
   "metadata": {},
   "outputs": [
    {
     "data": {
      "text/plain": [
       "deepseek_accuracy\n",
       "False    8\n",
       "True     7\n",
       "Name: count, dtype: int64"
      ]
     },
     "execution_count": 9,
     "metadata": {},
     "output_type": "execute_result"
    }
   ],
   "source": [
    "final_results[(final_results[\"deepseek_contamination\"]==False)][\"deepseek_accuracy\"].value_counts()"
   ]
  }
 ],
 "metadata": {
  "kernelspec": {
   "display_name": ".venv",
   "language": "python",
   "name": "python3"
  },
  "language_info": {
   "codemirror_mode": {
    "name": "ipython",
    "version": 3
   },
   "file_extension": ".py",
   "mimetype": "text/x-python",
   "name": "python",
   "nbconvert_exporter": "python",
   "pygments_lexer": "ipython3",
   "version": "3.12.6"
  }
 },
 "nbformat": 4,
 "nbformat_minor": 2
}
